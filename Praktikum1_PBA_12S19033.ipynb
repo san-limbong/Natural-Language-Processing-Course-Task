{
 "cells": [
  {
   "cell_type": "markdown",
   "id": "00c9fb9f",
   "metadata": {},
   "source": [
    "Nama  : San Antonio Limbong\n",
    "\n",
    "NIM   : 12S19033\n",
    "\n",
    "Kelas : 14SI-2"
   ]
  },
  {
   "cell_type": "markdown",
   "id": "b830b0e4",
   "metadata": {},
   "source": [
    "RegEx adalah string teks yang mendeskripsikan pola pencarian yang dapat digunakan untuk\n",
    "mencocokkan atau mengganti pola di dalam string dengan jumlah kode minimal."
   ]
  },
  {
   "cell_type": "markdown",
   "id": "7d71c615",
   "metadata": {},
   "source": [
    "# Latihan 1 | Pattern Matching"
   ]
  },
  {
   "cell_type": "markdown",
   "id": "f2067b0c",
   "metadata": {},
   "source": [
    "Untuk mencari sebuah pola di dalam sebuah string, maka fungsi match dan findall\n",
    "dapat digunakan.\n"
   ]
  },
  {
   "cell_type": "code",
   "execution_count": 1,
   "id": "a23dc22d",
   "metadata": {},
   "outputs": [],
   "source": [
    "text = \"Indonesia merdeka pada tahun 1945.\""
   ]
  },
  {
   "cell_type": "code",
   "execution_count": 2,
   "id": "1ade1e0e",
   "metadata": {},
   "outputs": [],
   "source": [
    "# Parameter pertama fungsi match adalah ekspresi regex yang ingin Anda cari. \n",
    "# Ekspresi regex dimulai dengan alfabet r diikuti oleh pola yang ingin Anda \n",
    "# cari. Pola harus diapit dalam tanda kutip tunggal atau ganda seperti string lainnya. Ekspresi regex di atas akan cocok dengan string\n",
    "# teks, karena kita mencoba mencocokkan string dengan panjang dan karakter \n",
    "# apapun. Jika kecocokan ditemukan, fungsi match akan mengembalikan nilai \n",
    "# re.\n",
    "\n",
    "import re\n",
    "result = re.match(r\".*\", text)"
   ]
  },
  {
   "cell_type": "code",
   "execution_count": 3,
   "id": "0164ae2e",
   "metadata": {},
   "outputs": [
    {
     "data": {
      "text/plain": [
       "re.Match"
      ]
     },
     "execution_count": 3,
     "metadata": {},
     "output_type": "execute_result"
    }
   ],
   "source": [
    "type(result)"
   ]
  },
  {
   "cell_type": "code",
   "execution_count": 4,
   "id": "0e5275b3",
   "metadata": {},
   "outputs": [
    {
     "data": {
      "text/plain": [
       "'Indonesia merdeka pada tahun 1945.'"
      ]
     },
     "execution_count": 4,
     "metadata": {},
     "output_type": "execute_result"
    }
   ],
   "source": [
    "result.group(0)"
   ]
  },
  {
   "cell_type": "code",
   "execution_count": 5,
   "id": "6c167f03",
   "metadata": {},
   "outputs": [],
   "source": [
    "text = \"\""
   ]
  },
  {
   "cell_type": "code",
   "execution_count": 6,
   "id": "3ea90426",
   "metadata": {},
   "outputs": [
    {
     "data": {
      "text/plain": [
       "''"
      ]
     },
     "execution_count": 6,
     "metadata": {},
     "output_type": "execute_result"
    }
   ],
   "source": [
    "result = re.match(r\".*\", text)\n",
    "result.group(0)"
   ]
  },
  {
   "cell_type": "code",
   "execution_count": 7,
   "id": "25190c2f",
   "metadata": {},
   "outputs": [],
   "source": [
    "result = re.match(r\".+\", text)"
   ]
  },
  {
   "cell_type": "code",
   "execution_count": 8,
   "id": "5e863e04",
   "metadata": {},
   "outputs": [],
   "source": [
    "text = \"Indonesia merdeka pada tahun 1945.\""
   ]
  },
  {
   "cell_type": "code",
   "execution_count": 9,
   "id": "699e0bce",
   "metadata": {},
   "outputs": [],
   "source": [
    "# Ekspresi regex ini berfungsi untuk menyatakan kecocokan dengan string \n",
    "# teks untuk setiap huruf dari kecil a sampai z kecil atau modal A ke \n",
    "# modal Z. Selanjutnya  Tanda plus menentukan bahwa string harus memiliki\n",
    "# setidaknya satu karakter.\n",
    "\n",
    "result = re.match(r\"[a-zA-z]+\", text)"
   ]
  },
  {
   "cell_type": "code",
   "execution_count": 10,
   "id": "9723d113",
   "metadata": {},
   "outputs": [
    {
     "name": "stdout",
     "output_type": "stream",
     "text": [
      "Indonesia\n"
     ]
    }
   ],
   "source": [
    "print(result.group(0))\n",
    "# Output menujukkan kata hanya kata \"Indonesia\" karena fungsi match\n",
    "# Hanya mengembalikan kecocokan pertama yang ditemukan"
   ]
  },
  {
   "cell_type": "code",
   "execution_count": 11,
   "id": "d4fc9dc8",
   "metadata": {},
   "outputs": [
    {
     "data": {
      "text/plain": [
       "NoneType"
      ]
     },
     "execution_count": 11,
     "metadata": {},
     "output_type": "execute_result"
    }
   ],
   "source": [
    "text = \"1945 merupakan tahun dimana Indonesia merdeka.\"\n",
    "result = re.match(r\"[a-zA-z]+\", text)\n",
    "type(result)"
   ]
  },
  {
   "cell_type": "code",
   "execution_count": 12,
   "id": "a62a01ef",
   "metadata": {},
   "outputs": [
    {
     "name": "stdout",
     "output_type": "stream",
     "text": [
      "merupakan\n"
     ]
    }
   ],
   "source": [
    "text = \"1945 merupakan tahun dimana Indonesia merdeka.\"\n",
    "result = re.search(r\"[a-zA-z]+\", text)\n",
    "print(result.group(0))"
   ]
  },
  {
   "cell_type": "code",
   "execution_count": 13,
   "id": "00cf2ab9",
   "metadata": {},
   "outputs": [
    {
     "name": "stdout",
     "output_type": "stream",
     "text": [
      "Match not Found\n"
     ]
    }
   ],
   "source": [
    "# Berikut adalah fungsi untuk memeriksa apakah sebuah string diakhiri \n",
    "# dengan kata tertentu atau tidak. Regular Expression\n",
    "# ditandai oleh tanda Dolar sebagai ($)\n",
    "\n",
    "text = \"1945 merupakan tahun dimana Indonesia merdeka.\"\n",
    "if re.search (r\"1945$\", text):\n",
    "    print(\"Match Found\")\n",
    "else:\n",
    "    print(\"Match not Found\")"
   ]
  },
  {
   "cell_type": "code",
   "execution_count": 14,
   "id": "b3996405",
   "metadata": {},
   "outputs": [
    {
     "name": "stdout",
     "output_type": "stream",
     "text": [
      "Match Found\n"
     ]
    }
   ],
   "source": [
    "text = \"Indonesia merdeka pada tahun 1945\"\n",
    "if re.search (r\"1945$\", text):\n",
    "    print(\"Match Found\")\n",
    "else:\n",
    "    print(\"Match not Found\")"
   ]
  },
  {
   "cell_type": "code",
   "execution_count": 15,
   "id": "3ce3ad91",
   "metadata": {},
   "outputs": [],
   "source": [
    "text = \"Perkiraan belanja bulanan saya adalah 500000 sampai 700000 rupiah\""
   ]
  },
  {
   "cell_type": "code",
   "execution_count": 16,
   "id": "172555b2",
   "metadata": {},
   "outputs": [
    {
     "name": "stdout",
     "output_type": "stream",
     "text": [
      "500000\n"
     ]
    }
   ],
   "source": [
    "# Berikut adalah fungsi pencarian yang mencocokkan teks dengan digit (0-9)\n",
    "# serta + sebagai quantifier untuk menemukan 1 atau lebih karakter yang\n",
    "# cocok dengan \\d.\n",
    "result = re.search(r\"\\d+\", text)\n",
    "print(result.group(0))"
   ]
  },
  {
   "cell_type": "code",
   "execution_count": 17,
   "id": "5890188b",
   "metadata": {},
   "outputs": [
    {
     "name": "stdout",
     "output_type": "stream",
     "text": [
      "['500000', '700000']\n"
     ]
    }
   ],
   "source": [
    "text = \"Perkiraan belanja bulanan saya adalah 500000 sampai 700000 rupiah\"\n",
    "result = re.findall(r\"\\d+\", text)\n",
    "print(result)"
   ]
  },
  {
   "cell_type": "markdown",
   "id": "2d8f7e0a",
   "metadata": {},
   "source": [
    "# Latihan 2 | Substitution"
   ]
  },
  {
   "cell_type": "code",
   "execution_count": 18,
   "id": "f67824fa",
   "metadata": {},
   "outputs": [],
   "source": [
    "text = \"Novel terbaru Tere Liye berjudul Pulang Pergi dirilis tahun 2021\""
   ]
  },
  {
   "cell_type": "code",
   "execution_count": 19,
   "id": "6b7f631b",
   "metadata": {},
   "outputs": [],
   "source": [
    "# Fungsi Sub untuk mengganti string sesuai dengan \n",
    "# string baru yang di deklarasikan\n",
    "result = re.sub(r\"Pulang Pergi\", \"Tere Liye\", text)"
   ]
  },
  {
   "cell_type": "code",
   "execution_count": 20,
   "id": "36470352",
   "metadata": {},
   "outputs": [
    {
     "name": "stdout",
     "output_type": "stream",
     "text": [
      "NXXXX PXXXXX PXXXX XXXXXXX XXXXX 2021\n"
     ]
    }
   ],
   "source": [
    "# Parameter kedua sebagai pengganti teks lama disamping dari parameter pertama\n",
    "# yang diterapkan pada keseluruhan nilai dari variable yang di defenisikan\n",
    "text = \"Novel Pulang Pergi dirilis tahun 2021\"\n",
    "result = re.sub(r\"[a-z]\", \"X\", text)\n",
    "print(result)"
   ]
  },
  {
   "cell_type": "code",
   "execution_count": 21,
   "id": "46d3050a",
   "metadata": {},
   "outputs": [
    {
     "name": "stdout",
     "output_type": "stream",
     "text": [
      "XXXXX XXXXXX XXXXX XXXXXXX XXXXX 2021\n"
     ]
    }
   ],
   "source": [
    "result = re.sub(r\"[a-zA-Z]\", \"X\", text)\n",
    "print(result)"
   ]
  },
  {
   "cell_type": "code",
   "execution_count": 22,
   "id": "8fc00fff",
   "metadata": {},
   "outputs": [
    {
     "name": "stdout",
     "output_type": "stream",
     "text": [
      "XXXXX XXXXXX XXXXX XXXXXXX XXXXX 2021\n"
     ]
    }
   ],
   "source": [
    "result = re.sub(r\"[a-z]\", \"X\", text, flags=re.I)\n",
    "print(result)"
   ]
  },
  {
   "cell_type": "code",
   "execution_count": 23,
   "id": "d01e9a21",
   "metadata": {},
   "outputs": [
    {
     "name": "stdout",
     "output_type": "stream",
     "text": [
      "Novel terbaru Tere Liye berjudul Pulang Pergi dirilis tahun \n"
     ]
    }
   ],
   "source": [
    "# Menghapus angka dari sebuah string\n",
    "text = \"Novel terbaru Tere Liye berjudul Pulang Pergi dirilis tahun 2021\"\n",
    "result = re.sub(r\"\\d\", \"\", text)\n",
    "print(result)"
   ]
  },
  {
   "cell_type": "code",
   "execution_count": 24,
   "id": "eabf5660",
   "metadata": {},
   "outputs": [
    {
     "name": "stdout",
     "output_type": "stream",
     "text": [
      "         2021\n"
     ]
    }
   ],
   "source": [
    "# Menghapus alfabet dari sebuah string\n",
    "text = \"Novel terbaru Tere Liye berjudul Pulang Pergi dirilis tahun 2021\"\n",
    "result = re.sub(r\"[a-z]\", \"\", text, flags=re.I)\n",
    "print(result)"
   ]
  },
  {
   "cell_type": "code",
   "execution_count": 25,
   "id": "b3219a8c",
   "metadata": {},
   "outputs": [
    {
     "name": "stdout",
     "output_type": "stream",
     "text": [
      "Novel terbaru Tere Liye berjudul Pulang Pergi dirilis  pada  tahun   2021\n"
     ]
    }
   ],
   "source": [
    "# Menghapus tanda baca dari string\n",
    "text = \"Novel terbaru, Tere Liye berjudul '@Pulang Pergi' dirilis ? pada _ tahun % $ 2021.\"\n",
    "result = re.sub(r\"[,@\\'?\\.$%_']\", \"\", text, flags=re.I)\n",
    "print(result)"
   ]
  },
  {
   "cell_type": "code",
   "execution_count": 26,
   "id": "aa0531e8",
   "metadata": {},
   "outputs": [
    {
     "name": "stdout",
     "output_type": "stream",
     "text": [
      "Novel terbaru Tere Liye berjudul Pulang Pergi dirilis pada tahun 2021\n"
     ]
    }
   ],
   "source": [
    "# Menghapus multiple spasi\n",
    "text = \"Novel terbaru    Tere Liye    berjudul   Pulang Pergi    dirilis  pada  tahun   2021\"\n",
    "result = re.sub(r\"\\s+\", \" \", text, flags=re.I)\n",
    "print(result)"
   ]
  },
  {
   "cell_type": "code",
   "execution_count": 27,
   "id": "d12fec7f",
   "metadata": {},
   "outputs": [
    {
     "name": "stdout",
     "output_type": "stream",
     "text": [
      "Novel terbaru Tere Liye berjudul Pulang Pergi dirilis tahun 2021\n"
     ]
    }
   ],
   "source": [
    "text = \"          Novel terbaru Tere Liye berjudul Pulang Pergi dirilis tahun 2021\"\n",
    "result = re.sub(r\"^\\s+\", \"\", text)\n",
    "print(result)"
   ]
  },
  {
   "cell_type": "code",
   "execution_count": 28,
   "id": "ec95c6a0",
   "metadata": {},
   "outputs": [
    {
     "name": "stdout",
     "output_type": "stream",
     "text": [
      "Novel terbaru Tere Liye berjudul Pulang Pergi dirilis tahun 2021\n"
     ]
    }
   ],
   "source": [
    "text = \"Novel terbaru Tere Liye berjudul Pulang Pergi dirilis tahun 2021\"\n",
    "result = re.sub(r\"^\\s+$\", \"\", text)\n",
    "print(result)"
   ]
  },
  {
   "cell_type": "code",
   "execution_count": 29,
   "id": "ff48c634",
   "metadata": {},
   "outputs": [
    {
     "name": "stdout",
     "output_type": "stream",
     "text": [
      "Novel terbaru Tere Liye berjudul Pulang Pergi dirilis tahun 2021\n"
     ]
    }
   ],
   "source": [
    "text = \"Novel terbaru Tere Liye   s berjudul Pulang Pergi dirilis tahun 2021\"\n",
    "result = re.sub(r\"\\s+[a-zA-z]\\s+\", \" \", text)\n",
    "print(result)"
   ]
  },
  {
   "cell_type": "markdown",
   "id": "258fc05e",
   "metadata": {},
   "source": [
    "# Latihan 3 | Splitting"
   ]
  },
  {
   "cell_type": "code",
   "execution_count": 30,
   "id": "ce576f30",
   "metadata": {},
   "outputs": [
    {
     "name": "stdout",
     "output_type": "stream",
     "text": [
      "['Novel', 'terbaru', 'Tere', 'Liye', 'berjudul', 'Pulang', 'Pergi', 'dirilis', 'tahun', '20214', '']\n"
     ]
    }
   ],
   "source": [
    "# Fungsi Split mengembalikan daftar token Split.\n",
    "text = \"Novel     terbaru Tere Liye berjudul Pulang     Pergi dirilis tahun 20214    \"\n",
    "result = re.split(r\"\\s+\", text)\n",
    "print(result)"
   ]
  },
  {
   "cell_type": "code",
   "execution_count": 31,
   "id": "9a5e84a1",
   "metadata": {},
   "outputs": [
    {
     "name": "stdout",
     "output_type": "stream",
     "text": [
      "['Novel terbaru', ' Tere Liye berjudul', ' Pulang Pergi dirilis tahun', ' 2021']\n"
     ]
    }
   ],
   "source": [
    "text = \"Novel terbaru, Tere Liye berjudul, Pulang Pergi dirilis tahun, 2021\"\n",
    "result = re.split(r\"\\,\", text)\n",
    "print(result)"
   ]
  },
  {
   "cell_type": "code",
   "execution_count": null,
   "id": "c5e98426",
   "metadata": {},
   "outputs": [],
   "source": []
  }
 ],
 "metadata": {
  "kernelspec": {
   "display_name": "Python 3 (ipykernel)",
   "language": "python",
   "name": "python3"
  },
  "language_info": {
   "codemirror_mode": {
    "name": "ipython",
    "version": 3
   },
   "file_extension": ".py",
   "mimetype": "text/x-python",
   "name": "python",
   "nbconvert_exporter": "python",
   "pygments_lexer": "ipython3",
   "version": "3.9.12"
  }
 },
 "nbformat": 4,
 "nbformat_minor": 5
}
