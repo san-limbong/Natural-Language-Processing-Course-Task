{
 "cells": [
  {
   "cell_type": "markdown",
   "id": "2745ea1f",
   "metadata": {},
   "source": [
    "Nama  : San Antonio Limbong\n",
    "\n",
    "NIM   : 12S19033"
   ]
  },
  {
   "cell_type": "markdown",
   "id": "51322bce",
   "metadata": {},
   "source": [
    "# Latihan 1 Term Frequency"
   ]
  },
  {
   "cell_type": "code",
   "execution_count": 1,
   "id": "ffc7c5f2",
   "metadata": {},
   "outputs": [],
   "source": [
    "from sklearn.feature_extraction.text import CountVectorizer\n",
    "\n",
    "vectorizer = CountVectorizer()\n",
    "corpus = [\n",
    "    'The greatest glory in living lies not in never falling, but in rising every time we fall.',\n",
    "    'The way to get started is to quit talking and begin doing.',\n",
    "    'If life were predictable it would cease to be life, and be without flavor.',\n",
    "    'Life is what happens when you are busy making other plans.',\n",
    "\n",
    "]\n",
    "\n",
    "X = vectorizer.fit_transform(corpus)"
   ]
  },
  {
   "cell_type": "markdown",
   "id": "9ab0a8d5",
   "metadata": {},
   "source": [
    "Fungsi fit_transform digunakan untuk mengekstrak kosa kata atau vocabulary dan menghitung\n",
    "kemunculan setiap kata dalam setiap kalimat yang diberikan"
   ]
  },
  {
   "cell_type": "code",
   "execution_count": 2,
   "id": "c2a3813c",
   "metadata": {},
   "outputs": [
    {
     "name": "stdout",
     "output_type": "stream",
     "text": [
      "['and', 'are', 'be', 'begin', 'busy', 'but', 'cease', 'doing', 'every', 'fall', 'falling', 'flavor', 'get', 'glory', 'greatest', 'happens', 'if', 'in', 'is', 'it', 'lies', 'life', 'living', 'making', 'never', 'not', 'other', 'plans', 'predictable', 'quit', 'rising', 'started', 'talking', 'the', 'time', 'to', 'way', 'we', 'were', 'what', 'when', 'without', 'would', 'you']\n"
     ]
    },
    {
     "name": "stderr",
     "output_type": "stream",
     "text": [
      "C:\\Users\\ASUS\\anaconda3\\lib\\site-packages\\sklearn\\utils\\deprecation.py:87: FutureWarning: Function get_feature_names is deprecated; get_feature_names is deprecated in 1.0 and will be removed in 1.2. Please use get_feature_names_out instead.\n",
      "  warnings.warn(msg, category=FutureWarning)\n"
     ]
    }
   ],
   "source": [
    "print(vectorizer.get_feature_names())"
   ]
  },
  {
   "cell_type": "markdown",
   "id": "00ce8cc6",
   "metadata": {},
   "source": [
    "Fungsi get_feature_names() untuk melihat setupa kata yang terdapat pada vocabulary."
   ]
  },
  {
   "cell_type": "code",
   "execution_count": 3,
   "id": "d9283bd7",
   "metadata": {},
   "outputs": [
    {
     "data": {
      "text/plain": [
       "array([[0, 0, 0, 0, 0, 0, 0, 0, 0, 0, 0, 0, 0, 1, 0, 0, 0, 0, 0, 0, 0, 0,\n",
       "        0, 0, 0, 0, 0, 0, 0, 0, 0, 0, 0, 0, 0, 0, 0, 0, 0, 0, 0, 0, 0, 0]],\n",
       "      dtype=int64)"
      ]
     },
     "execution_count": 3,
     "metadata": {},
     "output_type": "execute_result"
    }
   ],
   "source": [
    "#retriving the matrix in the numpy form\n",
    "X.toarray()\n",
    "\n",
    "#transforming a new document according to Learn vocabulary\n",
    "vectorizer.transform(['A glory.']).toarray()"
   ]
  },
  {
   "cell_type": "markdown",
   "id": "b9b6470d",
   "metadata": {},
   "source": [
    "Fungsi toarray() digunakan untuk menampilkan matrix.\n",
    "Fungsi transform() digunakan untuk merubah dokumen yang diberikan menjadi bentuk document-term matrix"
   ]
  },
  {
   "cell_type": "markdown",
   "id": "a0bea4e6",
   "metadata": {},
   "source": [
    "# 2. Term Frequency – Inverse Document Frequency Konversi Kalimat ke N-gram"
   ]
  },
  {
   "cell_type": "code",
   "execution_count": 4,
   "id": "17464a58",
   "metadata": {},
   "outputs": [
    {
     "data": {
      "text/plain": [
       "array([[0.        , 0.        , 0.        , 0.        , 0.        ,\n",
       "        0.21080243, 0.        , 0.        , 0.21080243, 0.21080243,\n",
       "        0.21080243, 0.        , 0.        , 0.21080243, 0.21080243,\n",
       "        0.        , 0.        , 0.63240729, 0.        , 0.        ,\n",
       "        0.21080243, 0.        , 0.21080243, 0.        , 0.21080243,\n",
       "        0.21080243, 0.        , 0.        , 0.        , 0.        ,\n",
       "        0.21080243, 0.        , 0.        , 0.14957063, 0.21080243,\n",
       "        0.        , 0.        , 0.21080243, 0.        , 0.        ,\n",
       "        0.        , 0.        , 0.        , 0.        ],\n",
       "       [0.21871556, 0.        , 0.        , 0.30825419, 0.        ,\n",
       "        0.        , 0.        , 0.30825419, 0.        , 0.        ,\n",
       "        0.        , 0.        , 0.30825419, 0.        , 0.        ,\n",
       "        0.        , 0.        , 0.        , 0.21871556, 0.        ,\n",
       "        0.        , 0.        , 0.        , 0.        , 0.        ,\n",
       "        0.        , 0.        , 0.        , 0.        , 0.30825419,\n",
       "        0.        , 0.30825419, 0.30825419, 0.21871556, 0.        ,\n",
       "        0.43743112, 0.30825419, 0.        , 0.        , 0.        ,\n",
       "        0.        , 0.        , 0.        , 0.        ],\n",
       "       [0.18307419, 0.        , 0.51604362, 0.        , 0.        ,\n",
       "        0.        , 0.25802181, 0.        , 0.        , 0.        ,\n",
       "        0.        , 0.25802181, 0.        , 0.        , 0.        ,\n",
       "        0.        , 0.25802181, 0.        , 0.        , 0.25802181,\n",
       "        0.        , 0.36614837, 0.        , 0.        , 0.        ,\n",
       "        0.        , 0.        , 0.        , 0.25802181, 0.        ,\n",
       "        0.        , 0.        , 0.        , 0.        , 0.        ,\n",
       "        0.18307419, 0.        , 0.        , 0.25802181, 0.        ,\n",
       "        0.        , 0.25802181, 0.25802181, 0.        ],\n",
       "       [0.        , 0.31611927, 0.        , 0.        , 0.31611927,\n",
       "        0.        , 0.        , 0.        , 0.        , 0.        ,\n",
       "        0.        , 0.        , 0.        , 0.        , 0.        ,\n",
       "        0.31611927, 0.        , 0.        , 0.22429607, 0.        ,\n",
       "        0.        , 0.22429607, 0.        , 0.31611927, 0.        ,\n",
       "        0.        , 0.31611927, 0.31611927, 0.        , 0.        ,\n",
       "        0.        , 0.        , 0.        , 0.        , 0.        ,\n",
       "        0.        , 0.        , 0.        , 0.        , 0.31611927,\n",
       "        0.31611927, 0.        , 0.        , 0.31611927]])"
      ]
     },
     "execution_count": 4,
     "metadata": {},
     "output_type": "execute_result"
    }
   ],
   "source": [
    "from sklearn.feature_extraction.text import TfidfTransformer\n",
    "\n",
    "#create tf-idf object\n",
    "transformer = TfidfTransformer(smooth_idf=False)\n",
    "\n",
    "#learn the vocabulary and store tf-idf sparse matrix in tfidf\n",
    "tfidf = transformer.fit_transform(X)\n",
    "\n",
    "#retriving matrix in numpy form as we did before\n",
    "tfidf.toarray()"
   ]
  },
  {
   "cell_type": "markdown",
   "id": "6cf81d2e",
   "metadata": {},
   "source": [
    "# 3. Word2Vec"
   ]
  },
  {
   "cell_type": "code",
   "execution_count": 5,
   "id": "abb1325e",
   "metadata": {},
   "outputs": [],
   "source": [
    "#importing all necessary modules\n",
    "from nltk.tokenize import sent_tokenize, word_tokenize\n",
    "import warnings\n",
    "\n",
    "warnings.filterwarnings(action = 'ignore')\n",
    "\n",
    "import gensim\n",
    "from gensim.models import Word2Vec\n",
    "\n",
    "#Read 'alice.txt' file\n",
    "sample = open(\"alice_in_wonderland.txt\", \"r\")\n",
    "s = sample.read()\n",
    "\n",
    "#Replaces escape charter with space\n",
    "f = s.replace(\"\\n\", \" \")\n",
    "\n",
    "data = []\n",
    "#iterate through each sentence in the file\n",
    "for i in sent_tokenize(f):\n",
    "    temp = []\n",
    "    \n",
    "    #tokenize the sentence into words\n",
    "    for j in word_tokenize(i):\n",
    "        temp.append(j.lower())\n",
    "        \n",
    "    data.append(temp)\n",
    "    \n",
    "#create CBOW model\n",
    "model1 = gensim.models.Word2Vec(data, min_count = 1, size = 100, window = 5)"
   ]
  },
  {
   "cell_type": "markdown",
   "id": "740c833c",
   "metadata": {},
   "source": [
    "- min_count : jumlah kata minimum yang perlu dipertimbangkan saat melatih model\n",
    "- size : jumlah dari dimensi embedding\n",
    "- window: jarak maksimum antara kata target dan kata disekitar kata target"
   ]
  },
  {
   "cell_type": "code",
   "execution_count": 6,
   "id": "13dba91f",
   "metadata": {},
   "outputs": [
    {
     "name": "stdout",
     "output_type": "stream",
     "text": [
      "Cosine similarity between 'alice'and 'wonderland' - CBOW: 0.99854565\n",
      "Cosine similarity between 'alice'and 'machines' - CBOW: 0.9831899\n"
     ]
    }
   ],
   "source": [
    "#print result\n",
    "print(\"Cosine similarity between 'alice'\" + \"and 'wonderland' - CBOW:\",\n",
    "     model1.similarity('alice', 'wonderland'))\n",
    "print(\"Cosine similarity between 'alice'\" + \"and 'machines' - CBOW:\",\n",
    "     model1.similarity('alice', 'machines'))"
   ]
  },
  {
   "cell_type": "markdown",
   "id": "98e1a31a",
   "metadata": {},
   "source": [
    "Fungsi model.similarity () digunakan untuk menghitung kesamaan antara dua kata dalam kosakata"
   ]
  },
  {
   "cell_type": "code",
   "execution_count": 8,
   "id": "de268191",
   "metadata": {},
   "outputs": [
    {
     "name": "stdout",
     "output_type": "stream",
     "text": [
      "Cosine similarity between 'alice'and 'wonderland' - Skip Gram: 0.9782598\n",
      "Cosine similarity between 'alice'and 'machines' - Skip Gram: 0.9767585\n"
     ]
    }
   ],
   "source": [
    "#Create skip gram model\n",
    "model2 = gensim.models.Word2Vec(data, min_count = 1, size = 100, window = 5, sg = 1)\n",
    "\n",
    "#print result\n",
    "print(\"Cosine similarity between 'alice'\" + \"and 'wonderland' - Skip Gram:\",\n",
    "     model2.similarity('alice', 'wonderland'))\n",
    "print(\"Cosine similarity between 'alice'\" + \"and 'machines' - Skip Gram:\",\n",
    "     model2.similarity('alice', 'machines'))"
   ]
  },
  {
   "cell_type": "markdown",
   "id": "18c6dee0",
   "metadata": {},
   "source": [
    "Untuk membuat model skip-gram, kita hanya perlu menambahkan satu hyperparameter\n",
    "yaitu ‘sg’ pada fungsi Word2Vec."
   ]
  },
  {
   "cell_type": "markdown",
   "id": "86007c4a",
   "metadata": {},
   "source": [
    "# 4. Plot Word Vectors Using PCA"
   ]
  },
  {
   "cell_type": "code",
   "execution_count": 9,
   "id": "490848eb",
   "metadata": {},
   "outputs": [
    {
     "data": {
      "image/png": "[encoded data removed]",
      "text/plain": [
       "<Figure size 432x288 with 1 Axes>"
      ]
     },
     "metadata": {
      "needs_background": "light"
     },
     "output_type": "display_data"
    }
   ],
   "source": [
    "from sklearn.decomposition import PCA\n",
    "from matplotlib import  pyplot\n",
    "\n",
    "%matplotlib inline\n",
    "\n",
    "#fit a 2d PCA model to the vectors\n",
    "X = model1[model1.wv.vocab]\n",
    "pca = PCA(n_components = 2)\n",
    "result = pca.fit_transform(X)\n",
    "\n",
    "#create a scatter plot of the projection\n",
    "pyplot.scatter(result[:, 0], result[:,1])\n",
    "words = list(model1.wv.vocab)\n",
    "for i, word in enumerate(words):\n",
    "    pyplot.annotate(word, xy=(result[i, 0], result[i, 1]))\n",
    "    \n",
    "pyplot.show()"
   ]
  },
  {
   "cell_type": "code",
   "execution_count": 10,
   "id": "56109669",
   "metadata": {},
   "outputs": [
    {
     "data": {
      "image/png": "[encoded data removed]",
      "text/plain": [
       "<Figure size 432x288 with 1 Axes>"
      ]
     },
     "metadata": {
      "needs_background": "light"
     },
     "output_type": "display_data"
    }
   ],
   "source": [
    "#fit a 2d PCA model to the vectors\n",
    "X = model2[model2.wv.vocab]\n",
    "pca = PCA (n_components = 2)\n",
    "result = pca.fit_transform(X)\n",
    "\n",
    "#create a scatter plot of the projection\n",
    "pyplot.scatter(result[:, 0], result[:, 1])\n",
    "words = list(model2.wv.vocab)\n",
    "for i, word in enumerate(words):\n",
    "    pyplot.annotate(word, xy=(result[i, 0], result[i, 1]))\n",
    "    \n",
    "pyplot.show()"
   ]
  },
  {
   "cell_type": "markdown",
   "id": "17b2440d",
   "metadata": {},
   "source": [
    "# Tugas"
   ]
  },
  {
   "cell_type": "markdown",
   "id": "44f53edb",
   "metadata": {},
   "source": [
    "Dataset : https://www.kaggle.com/datasets/returnofsputnik/20newsbydate"
   ]
  },
  {
   "cell_type": "code",
   "execution_count": 11,
   "id": "ae42c1d0",
   "metadata": {},
   "outputs": [
    {
     "name": "stdout",
     "output_type": "stream",
     "text": [
      "scikit-learn version: 1.0.2\n",
      "numpy version: 1.21.5\n",
      "nltk version: 3.7\n"
     ]
    }
   ],
   "source": [
    "import sklearn\n",
    "print(\"scikit-learn version: {}\".format(sklearn.__version__))\n",
    "\n",
    "import numpy\n",
    "print(\"numpy version: {}\".format(numpy.__version__))\n",
    "\n",
    "import nltk\n",
    "print(\"nltk version: {}\".format(nltk.__version__))"
   ]
  },
  {
   "cell_type": "code",
   "execution_count": 12,
   "id": "3a058dcb",
   "metadata": {},
   "outputs": [],
   "source": [
    "import warnings\n",
    "warnings.filterwarnings(\"ignore\")"
   ]
  },
  {
   "cell_type": "code",
   "execution_count": 13,
   "id": "8da94f57",
   "metadata": {},
   "outputs": [],
   "source": [
    "from sklearn.datasets import load_files\n",
    "categories = ['alt.atheism', 'soc.religion.christian', 'comp.graphics', 'sci.med']\n",
    "twenty_train = load_files(\"C:/Users/ASUS/a semester 7/PBA/Week 6/Untitled Folder/archive/20news-bydate-train\", categories=categories, load_content=True, shuffle=True, encoding='latin1', decode_error='strict', random_state=42)\n",
    "twenty_test = load_files(\"C:/Users/ASUS/a semester 7/PBA/Week 6/Untitled Folder/archive/20news-bydate-test\", categories=categories, load_content=True, shuffle=True, encoding='latin1', decode_error='strict', random_state=42)"
   ]
  },
  {
   "cell_type": "code",
   "execution_count": 14,
   "id": "1ab7a5c4",
   "metadata": {},
   "outputs": [
    {
     "name": "stdout",
     "output_type": "stream",
     "text": [
      "3759\n"
     ]
    }
   ],
   "source": [
    "print (len(twenty_train.data) + len(twenty_test.data))"
   ]
  },
  {
   "cell_type": "code",
   "execution_count": 15,
   "id": "1da43998",
   "metadata": {},
   "outputs": [
    {
     "name": "stdout",
     "output_type": "stream",
     "text": [
      "['alt.atheism', 'comp.graphics', 'sci.med', 'soc.religion.christian']\n"
     ]
    }
   ],
   "source": [
    "print ( twenty_train.target_names)"
   ]
  },
  {
   "cell_type": "code",
   "execution_count": 16,
   "id": "5c555b45",
   "metadata": {},
   "outputs": [
    {
     "name": "stdout",
     "output_type": "stream",
     "text": [
      "From: clipper@mccarthy.csd.uwo.ca (Khun Yee Fung)\n",
      "Subject: Re: looking for circle algorithm faster than Bresenhams\n",
      "Organization: Department of Computer Science, The University of Western\n",
      "\tOntario, London, Ontario, Canada\n",
      "In-Reply-To: graeme@labtam.labtam.oz.au's message of Wed, 14 Apr 1993 04:49:46 GMT\n",
      "\t<1993Apr13.025240.8884@nwnexus.WA.COM>\n",
      "\t<1993Apr14.044946.12144@labtam.labtam.oz.au>\n",
      "Nntp-Posting-Host: mccarthy.csd.uwo.ca\n",
      "Lines: 41\n",
      "\n",
      ">>>>> On Wed, 14 Apr 1993 04:49:46 GMT, graeme@labtam.labtam.oz.au (Graeme Gill) said:\n",
      "\n",
      "Graeme> \tYes, that's known as \"Bresenhams Run Length Slice Algorithm for\n",
      "Graeme> Incremental lines\". See Fundamental Algorithms for Computer Graphics,\n",
      "Graeme> Springer-Verlag, Berlin Heidelberg 1985.\n",
      "\n",
      "> I have tried to extrapolate this to circles but I can't figure out\n",
      "> how to determine the length of the slices. Any ideas?\n",
      "\n",
      "Graeme> \tHmm. I don't think I can help you with this, but you might\n",
      "Graeme> take a look at the following:\n",
      "\n",
      "Graeme> \t\"Double-Step Incremental Generation of Lines and Circles\",\n",
      "Graeme> X. Wu and J. G. Rokne, Computer Graphics and Image processing,\n",
      "Graeme> Vol 37, No. 4, Mar. 1987, pp. 331-334\n",
      "\n",
      "Graeme> \t\"Double-Step Generation of Ellipses\", X. Wu and J. G. Rokne,\n",
      "Graeme> IEEE Computer Graphics & Applications, May 1989, pp. 56-69\n",
      "\n",
      "Another paper you might want to consider is:\n",
      "\n",
      "@article{fungdraw,\n",
      "  title=\"A Run-Length Slice Line Drawing Algorithm without Division Operations\",\n",
      "  author=\"Khun Yee Fung and Tina M. Nicholl and A. K. Dewdney\",\n",
      "  journal=\"Computer Graphics Forum\",\n",
      "  year=1992,\n",
      "  volume=11,\n",
      "  number=3,\n",
      "  pages=\"C-267--C-277\"\n",
      "}\n",
      "\n",
      "Khun Yee\n",
      "--\n",
      "Khun Yee Fung    clipper@csd.uwo.ca\n",
      "Department of Computer Science\n",
      "Middlesex College\n",
      "University of Western Ontario\n",
      "London, Ontario\n",
      "Canada N6A 5B7\n",
      "Tel: (519) 661-6889\n",
      "Fax: (519) 661-3515\n",
      "\n"
     ]
    }
   ],
   "source": [
    "print (\"\\n\".join(twenty_train.data[0].split(\"\\n\")))"
   ]
  },
  {
   "cell_type": "code",
   "execution_count": 17,
   "id": "6f74ee84",
   "metadata": {},
   "outputs": [
    {
     "name": "stdout",
     "output_type": "stream",
     "text": [
      "alt.atheism\n"
     ]
    }
   ],
   "source": [
    "print(twenty_train.target_names[0])"
   ]
  },
  {
   "cell_type": "code",
   "execution_count": 18,
   "id": "136eac8f",
   "metadata": {},
   "outputs": [],
   "source": [
    "codings = list(range(len(twenty_train.target_names)))"
   ]
  },
  {
   "cell_type": "code",
   "execution_count": 19,
   "id": "7ee966b6",
   "metadata": {},
   "outputs": [],
   "source": [
    "target_dic = dict(zip(codings,twenty_train.target_names))"
   ]
  },
  {
   "cell_type": "code",
   "execution_count": 20,
   "id": "89f66d47",
   "metadata": {},
   "outputs": [
    {
     "name": "stdout",
     "output_type": "stream",
     "text": [
      "comp.graphics\n"
     ]
    }
   ],
   "source": [
    "print(target_dic[twenty_train.target[0]])"
   ]
  },
  {
   "cell_type": "code",
   "execution_count": 21,
   "id": "392eb85d",
   "metadata": {},
   "outputs": [
    {
     "name": "stdout",
     "output_type": "stream",
     "text": [
      "from:\n",
      "clipper@mccarthy.csd.uwo.ca\n",
      "(khun\n",
      "yee\n",
      "fung)\n",
      "subject:\n",
      "re:\n",
      "look\n",
      "for\n",
      "circl\n",
      "algorithm\n",
      "faster\n",
      "than\n",
      "bresenham\n",
      "organization:\n",
      "depart\n",
      "of\n",
      "comput\n",
      "science,\n",
      "the\n",
      "univers\n",
      "of\n",
      "western\n",
      "ontario,\n",
      "london,\n",
      "ontario,\n",
      "canada\n",
      "in-reply-to:\n",
      "graeme@labtam.labtam.oz.au'\n",
      "messag\n",
      "of\n",
      "wed,\n",
      "14\n",
      "apr\n",
      "1993\n",
      "04:49:46\n",
      "gmt\n",
      "<1993apr13.025240.8884@nwnexus.wa.com>\n",
      "<1993apr14.044946.12144@labtam.labtam.oz.au>\n",
      "nntp-posting-host:\n",
      "mccarthy.csd.uwo.ca\n",
      "lines:\n",
      "41\n",
      ">>>>>\n",
      "on\n",
      "wed,\n",
      "14\n",
      "apr\n",
      "1993\n",
      "04:49:46\n",
      "gmt,\n",
      "graeme@labtam.labtam.oz.au\n",
      "(graem\n",
      "gill)\n",
      "said:\n",
      "graeme>\n",
      "yes,\n",
      "that'\n",
      "known\n",
      "as\n",
      "\"bresenham\n",
      "run\n",
      "length\n",
      "slice\n",
      "algorithm\n",
      "for\n",
      "graeme>\n",
      "increment\n",
      "lines\".\n",
      "see\n",
      "fundament\n",
      "algorithm\n",
      "for\n",
      "comput\n",
      "graphics,\n",
      "graeme>\n",
      "springer-verlag,\n",
      "berlin\n",
      "heidelberg\n",
      "1985.\n",
      ">\n",
      "i\n",
      "have\n",
      "tri\n",
      "to\n",
      "extrapol\n",
      "thi\n",
      "to\n",
      "circl\n",
      "but\n",
      "i\n",
      "can't\n",
      "figur\n",
      "out\n",
      ">\n",
      "how\n",
      "to\n",
      "determin\n",
      "the\n",
      "length\n",
      "of\n",
      "the\n",
      "slices.\n",
      "ani\n",
      "ideas?\n",
      "graeme>\n",
      "hmm.\n",
      "i\n",
      "don't\n",
      "think\n",
      "i\n",
      "can\n",
      "help\n",
      "you\n",
      "with\n",
      "this,\n",
      "but\n",
      "you\n",
      "might\n",
      "graeme>\n",
      "take\n",
      "a\n",
      "look\n",
      "at\n",
      "the\n",
      "following:\n",
      "graeme>\n",
      "\"double-step\n",
      "increment\n",
      "gener\n",
      "of\n",
      "line\n",
      "and\n",
      "circles\",\n",
      "graeme>\n",
      "x.\n",
      "wu\n",
      "and\n",
      "j.\n",
      "g.\n",
      "rokne,\n",
      "comput\n",
      "graphic\n",
      "and\n",
      "imag\n",
      "processing,\n",
      "graeme>\n",
      "vol\n",
      "37,\n",
      "no.\n",
      "4,\n",
      "mar.\n",
      "1987,\n",
      "pp.\n",
      "331-334\n",
      "graeme>\n",
      "\"double-step\n",
      "gener\n",
      "of\n",
      "ellipses\",\n",
      "x.\n",
      "wu\n",
      "and\n",
      "j.\n",
      "g.\n",
      "rokne,\n",
      "graeme>\n",
      "ieee\n",
      "comput\n",
      "graphic\n",
      "&\n",
      "applications,\n",
      "may\n",
      "1989,\n",
      "pp.\n",
      "56-69\n",
      "anoth\n",
      "paper\n",
      "you\n",
      "might\n",
      "want\n",
      "to\n",
      "consid\n",
      "is:\n",
      "@article{fungdraw,\n",
      "title=\"a\n",
      "run-length\n",
      "slice\n",
      "line\n",
      "draw\n",
      "algorithm\n",
      "without\n",
      "divis\n",
      "operations\",\n",
      "author=\"khun\n",
      "yee\n",
      "fung\n",
      "and\n",
      "tina\n",
      "m.\n",
      "nichol\n",
      "and\n",
      "a.\n",
      "k.\n",
      "dewdney\",\n",
      "journal=\"comput\n",
      "graphic\n",
      "forum\",\n",
      "year=1992,\n",
      "volume=11,\n",
      "number=3,\n",
      "pages=\"c-267--c-277\"\n",
      "}\n",
      "khun\n",
      "yee\n",
      "--\n",
      "khun\n",
      "yee\n",
      "fung\n",
      "clipper@csd.uwo.ca\n",
      "depart\n",
      "of\n",
      "comput\n",
      "scienc\n",
      "middlesex\n",
      "colleg\n",
      "univers\n",
      "of\n",
      "western\n",
      "ontario\n",
      "london,\n",
      "ontario\n",
      "canada\n",
      "n6a\n",
      "5b7\n",
      "tel:\n",
      "(519)\n",
      "661-6889\n",
      "fax:\n",
      "(519)\n",
      "661-3515\n"
     ]
    }
   ],
   "source": [
    "from nltk.stem import PorterStemmer\n",
    "words = twenty_train.data[0].split()\n",
    "ps = PorterStemmer()\n",
    "for w in words:\n",
    "    roodWord = ps.stem(w)\n",
    "    print(roodWord)"
   ]
  },
  {
   "cell_type": "code",
   "execution_count": 22,
   "id": "16afce38",
   "metadata": {},
   "outputs": [
    {
     "name": "stdout",
     "output_type": "stream",
     "text": [
      "['661-3515']\n"
     ]
    }
   ],
   "source": [
    "import nltk\n",
    "from nltk.stem import WordNetLemmatizer\n",
    "wordnet_lemmatizer = WordNetLemmatizer()\n",
    "tokenization = nltk.word_tokenize(roodWord)\n",
    "for w in tokenization:\n",
    "    print (tokenization)"
   ]
  },
  {
   "cell_type": "code",
   "execution_count": 23,
   "id": "6df4fe39",
   "metadata": {},
   "outputs": [
    {
     "name": "stdout",
     "output_type": "stream",
     "text": [
      "Shape of term-frequency matrix:   (0, 14887)\t1\n",
      "  (0, 8834)\t2\n",
      "  (0, 21242)\t2\n",
      "  (0, 10337)\t3\n",
      "  (0, 33968)\t3\n",
      "  (0, 7643)\t3\n",
      "  (0, 19320)\t4\n",
      "  (0, 35592)\t4\n",
      "  (0, 14992)\t3\n",
      "  (0, 31077)\t1\n",
      "  (0, 27031)\t1\n",
      "  (0, 20474)\t1\n",
      "  (0, 14601)\t3\n",
      "  (0, 8645)\t1\n",
      "  (0, 4690)\t3\n",
      "  (0, 14049)\t1\n",
      "  (0, 32131)\t1\n",
      "  (0, 7200)\t2\n",
      "  (0, 23915)\t1\n",
      "  (0, 11159)\t2\n",
      "  (0, 23610)\t8\n",
      "  (0, 9338)\t6\n",
      "  (0, 28897)\t2\n",
      "  (0, 32142)\t4\n",
      "  (0, 33597)\t2\n",
      "  :\t:\n",
      "  (2256, 34741)\t2\n",
      "  (2256, 17180)\t4\n",
      "  (2256, 28058)\t2\n",
      "  (2256, 33081)\t1\n",
      "  (2256, 11687)\t1\n",
      "  (2256, 27692)\t1\n",
      "  (2256, 25655)\t1\n",
      "  (2256, 34312)\t1\n",
      "  (2256, 22764)\t1\n",
      "  (2256, 10635)\t1\n",
      "  (2256, 17049)\t1\n",
      "  (2256, 34924)\t1\n",
      "  (2256, 35346)\t1\n",
      "  (2256, 14281)\t1\n",
      "  (2256, 27749)\t1\n",
      "  (2256, 14277)\t1\n",
      "  (2256, 33410)\t1\n",
      "  (2256, 20842)\t1\n",
      "  (2256, 11618)\t1\n",
      "  (2256, 9900)\t2\n",
      "  (2256, 6754)\t1\n",
      "  (2256, 28926)\t1\n",
      "  (2256, 13765)\t1\n",
      "  (2256, 21515)\t1\n",
      "  (2256, 28927)\t1\n"
     ]
    }
   ],
   "source": [
    "from sklearn.feature_extraction.text import CountVectorizer\n",
    "count_vect = CountVectorizer()\n",
    "X_train_tf = count_vect.fit_transform(twenty_train.data)\n",
    "print(\"Shape of term-frequency matrix:\", X_train_tf)"
   ]
  },
  {
   "cell_type": "code",
   "execution_count": 24,
   "id": "d70b1118",
   "metadata": {},
   "outputs": [
    {
     "name": "stdout",
     "output_type": "stream",
     "text": [
      "Number of training documents: 2257\n"
     ]
    }
   ],
   "source": [
    "print (\"Number of training documents:\",len(twenty_train.data))"
   ]
  },
  {
   "cell_type": "code",
   "execution_count": 25,
   "id": "b132deb5",
   "metadata": {},
   "outputs": [
    {
     "name": "stdout",
     "output_type": "stream",
     "text": [
      "Shape of term frequency-inverse document frequency matrix: (2257, 35788)\n"
     ]
    }
   ],
   "source": [
    "from sklearn.feature_extraction.text import TfidfTransformer\n",
    "tfidf_transformer = TfidfTransformer()\n",
    "X_train_tfidf = tfidf_transformer.fit_transform(X_train_tf)\n",
    "print(\"Shape of term frequency-inverse document frequency matrix:\", X_train_tfidf.shape)"
   ]
  },
  {
   "cell_type": "markdown",
   "id": "3e736038",
   "metadata": {},
   "source": [
    "# Basic Naive Bayes Model"
   ]
  },
  {
   "cell_type": "code",
   "execution_count": 26,
   "id": "404265b7",
   "metadata": {},
   "outputs": [
    {
     "name": "stdout",
     "output_type": "stream",
     "text": [
      "MultinomialNB()\n"
     ]
    }
   ],
   "source": [
    "from sklearn.naive_bayes import MultinomialNB\n",
    "from sklearn.metrics import accuracy_score\n",
    "\n",
    "mod = MultinomialNB()\n",
    "mod.fit(X_train_tfidf, twenty_train.target)\n",
    "print(mod)"
   ]
  },
  {
   "cell_type": "code",
   "execution_count": 27,
   "id": "99c76f9b",
   "metadata": {},
   "outputs": [],
   "source": [
    "X_test_tf = count_vect.transform(twenty_test.data)\n",
    "X_test_tfidf = tfidf_transformer.transform(X_test_tf)\n",
    "\n",
    "predicted = mod.predict(X_test_tfidf)"
   ]
  },
  {
   "cell_type": "code",
   "execution_count": 28,
   "id": "34fd5728",
   "metadata": {},
   "outputs": [
    {
     "name": "stdout",
     "output_type": "stream",
     "text": [
      "Accuracy: 0.8348868175765646\n"
     ]
    }
   ],
   "source": [
    "print(\"Accuracy:\", accuracy_score(twenty_test.target, predicted))"
   ]
  },
  {
   "cell_type": "code",
   "execution_count": 29,
   "id": "6f6a919e",
   "metadata": {},
   "outputs": [
    {
     "name": "stdout",
     "output_type": "stream",
     "text": [
      "                        precision    recall  f1-score   support\n",
      "\n",
      "           alt.atheism       0.97      0.60      0.74       319\n",
      "         comp.graphics       0.96      0.89      0.92       389\n",
      "               sci.med       0.97      0.81      0.88       396\n",
      "soc.religion.christian       0.65      0.99      0.78       398\n",
      "\n",
      "              accuracy                           0.83      1502\n",
      "             macro avg       0.89      0.82      0.83      1502\n",
      "          weighted avg       0.88      0.83      0.84      1502\n",
      "\n"
     ]
    }
   ],
   "source": [
    "from sklearn.metrics import classification_report\n",
    "print(classification_report(twenty_test.target,\n",
    "                           predicted,\n",
    "                           target_names=twenty_test.target_names))"
   ]
  },
  {
   "cell_type": "code",
   "execution_count": 30,
   "id": "03407568",
   "metadata": {},
   "outputs": [
    {
     "name": "stdout",
     "output_type": "stream",
     "text": [
      "accuracy: 0.8348868175765646\n"
     ]
    }
   ],
   "source": [
    "from sklearn.pipeline import Pipeline\n",
    "\n",
    "pipe = Pipeline([('vect', CountVectorizer()),\n",
    "                ('tfidf', TfidfTransformer()),\n",
    "                ('model', MultinomialNB()),])\n",
    "mod = pipe.fit(twenty_train.data, twenty_train.target)\n",
    "\n",
    "predicted = mod.predict(twenty_test.data)\n",
    "print(\"accuracy:\", accuracy_score(twenty_test.target, predicted))"
   ]
  },
  {
   "cell_type": "markdown",
   "id": "95e08fea",
   "metadata": {},
   "source": [
    "# An Improved Naive Bayes Model"
   ]
  },
  {
   "cell_type": "code",
   "execution_count": 31,
   "id": "80d3a6b8",
   "metadata": {},
   "outputs": [
    {
     "name": "stdout",
     "output_type": "stream",
     "text": [
      "                        precision    recall  f1-score   support\n",
      "\n",
      "           alt.atheism       0.97      0.72      0.83       319\n",
      "         comp.graphics       0.95      0.95      0.95       389\n",
      "               sci.med       0.95      0.88      0.92       396\n",
      "soc.religion.christian       0.76      0.97      0.85       398\n",
      "\n",
      "              accuracy                           0.89      1502\n",
      "             macro avg       0.91      0.88      0.89      1502\n",
      "          weighted avg       0.90      0.89      0.89      1502\n",
      "\n",
      "Accuracy: 0.8894806924101198\n"
     ]
    }
   ],
   "source": [
    "pipe = Pipeline([('vect', CountVectorizer(stop_words='english')),\n",
    "                ('tfidf', TfidfTransformer()),\n",
    "                ('model', MultinomialNB()),])\n",
    "\n",
    "mod = pipe.fit(twenty_train.data, twenty_train.target)\n",
    "\n",
    "predicted = mod.predict(twenty_test.data)\n",
    "\n",
    "print(classification_report(twenty_test.target,\n",
    "                           predicted,\n",
    "                           target_names = twenty_test.target_names))\n",
    "\n",
    "print(\"Accuracy:\", accuracy_score(twenty_test.target, predicted))"
   ]
  },
  {
   "cell_type": "markdown",
   "id": "e55774d8",
   "metadata": {},
   "source": [
    "# Performance Evaluation"
   ]
  },
  {
   "cell_type": "markdown",
   "id": "346a1828",
   "metadata": {},
   "source": [
    "## Precision"
   ]
  },
  {
   "cell_type": "code",
   "execution_count": 32,
   "id": "9d51b187",
   "metadata": {},
   "outputs": [
    {
     "name": "stdout",
     "output_type": "stream",
     "text": [
      "Macro Average Precision: 0.9079419539278434\n",
      "Micro Average Precision: 0.8894806924101198\n",
      "Weighted Average Precision: 0.9045424092926376\n"
     ]
    }
   ],
   "source": [
    "from sklearn.metrics import precision_score\n",
    "y_true = twenty_test.target\n",
    "y_pred = predicted\n",
    "\n",
    "print(\"Macro Average Precision:\",precision_score(y_true,y_pred, average='macro'))\n",
    "print(\"Micro Average Precision:\",precision_score(y_true,y_pred, average='micro'))\n",
    "print(\"Weighted Average Precision:\",precision_score(y_true,y_pred, average='weighted'))"
   ]
  },
  {
   "cell_type": "markdown",
   "id": "f32317bc",
   "metadata": {},
   "source": [
    "## Recall"
   ]
  },
  {
   "cell_type": "code",
   "execution_count": 33,
   "id": "9bfb4e71",
   "metadata": {},
   "outputs": [
    {
     "name": "stdout",
     "output_type": "stream",
     "text": [
      "Macro Average Recall: 0.8815852145928588\n",
      "Micro Average Recall: 0.8894806924101198\n",
      "Weighted Average Recall: 0.8894806924101198\n"
     ]
    }
   ],
   "source": [
    "from sklearn.metrics import recall_score\n",
    "y_true = twenty_test.target\n",
    "y_pred = predicted\n",
    "\n",
    "print(\"Macro Average Recall:\",recall_score(y_true,y_pred, average='macro'))\n",
    "print(\"Micro Average Recall:\",recall_score(y_true,y_pred, average='micro'))\n",
    "print(\"Weighted Average Recall:\",recall_score(y_true,y_pred, average='weighted'))"
   ]
  },
  {
   "cell_type": "markdown",
   "id": "824c9a80",
   "metadata": {},
   "source": [
    "## F1-Score"
   ]
  },
  {
   "cell_type": "code",
   "execution_count": 34,
   "id": "2b104003",
   "metadata": {},
   "outputs": [
    {
     "name": "stdout",
     "output_type": "stream",
     "text": [
      "Macro Average f1_score: 0.8867616617107978\n",
      "Micro Average f1_score: 0.8894806924101198\n",
      "Weighted Average f1_score: 0.8894459785761988\n"
     ]
    }
   ],
   "source": [
    "from sklearn.metrics import f1_score\n",
    "y_true = twenty_test.target\n",
    "y_pred = predicted\n",
    "\n",
    "print(\"Macro Average f1_score:\",f1_score(y_true,y_pred, average='macro'))\n",
    "print(\"Micro Average f1_score:\",f1_score(y_true,y_pred, average='micro'))\n",
    "print(\"Weighted Average f1_score:\",f1_score(y_true,y_pred, average='weighted'))"
   ]
  },
  {
   "cell_type": "code",
   "execution_count": null,
   "id": "dfa9a14b",
   "metadata": {},
   "outputs": [],
   "source": []
  }
 ],
 "metadata": {
  "kernelspec": {
   "display_name": "Python 3 (ipykernel)",
   "language": "python",
   "name": "python3"
  },
  "language_info": {
   "codemirror_mode": {
    "name": "ipython",
    "version": 3
   },
   "file_extension": ".py",
   "mimetype": "text/x-python",
   "name": "python",
   "nbconvert_exporter": "python",
   "pygments_lexer": "ipython3",
   "version": "3.9.12"
  }
 },
 "nbformat": 4,
 "nbformat_minor": 5
}
