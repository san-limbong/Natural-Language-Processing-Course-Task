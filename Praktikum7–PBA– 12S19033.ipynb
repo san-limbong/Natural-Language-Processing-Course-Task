{
 "cells": [
  {
   "cell_type": "markdown",
   "id": "37c4ea3a",
   "metadata": {},
   "source": [
    "Nama   : San Antonio Limbong\n",
    "\n",
    "NIM    : 12S19033"
   ]
  },
  {
   "cell_type": "markdown",
   "id": "b87f8f82",
   "metadata": {},
   "source": [
    "### Exercises"
   ]
  },
  {
   "cell_type": "code",
   "execution_count": 1,
   "id": "6c25db81",
   "metadata": {},
   "outputs": [],
   "source": [
    "#pip install tensorflow-text"
   ]
  },
  {
   "cell_type": "code",
   "execution_count": 2,
   "id": "ae77b922",
   "metadata": {},
   "outputs": [],
   "source": [
    "import numpy as np\n",
    "\n",
    "import typing\n",
    "from typing import Any, Tuple\n",
    "\n",
    "import tensorflow as tf\n",
    "from tensorflow.keras.layers.experimental import preprocessing\n",
    "\n",
    "import tensorflow_text as tf_text\n",
    "\n",
    "import matplotlib.pyplot as plt\n",
    "import matplotlib.ticker as ticker"
   ]
  },
  {
   "cell_type": "code",
   "execution_count": 3,
   "id": "7b89844b",
   "metadata": {},
   "outputs": [],
   "source": [
    "use_builtins = True"
   ]
  },
  {
   "cell_type": "code",
   "execution_count": 4,
   "id": "e0aee3b1",
   "metadata": {},
   "outputs": [],
   "source": [
    "#@title Shape checker\n",
    "class ShapeChecker():\n",
    "  def __init__(self):\n",
    "    # Keep a cache of every axis-name seen\n",
    "    self.shapes = {}\n",
    "\n",
    "  def __call__(self, tensor, names, broadcast=False):\n",
    "    if not tf.executing_eagerly():\n",
    "      return\n",
    "\n",
    "    if isinstance(names, str):\n",
    "      names = (names,)\n",
    "\n",
    "    shape = tf.shape(tensor)\n",
    "    rank = tf.rank(tensor)\n",
    "\n",
    "    if rank != len(names):\n",
    "      raise ValueError(f'Rank mismatch:\\n'\n",
    "                       f'    found {rank}: {shape.numpy()}\\n'\n",
    "                       f'    expected {len(names)}: {names}\\n')\n",
    "\n",
    "    for i, name in enumerate(names):\n",
    "      if isinstance(name, int):\n",
    "        old_dim = name\n",
    "      else:\n",
    "        old_dim = self.shapes.get(name, None)\n",
    "      new_dim = shape[i]\n",
    "\n",
    "      if (broadcast and new_dim == 1):\n",
    "        continue\n",
    "\n",
    "      if old_dim is None:\n",
    "        # If the axis name is new, add its length to the cache.\n",
    "        self.shapes[name] = new_dim\n",
    "        continue\n",
    "\n",
    "      if new_dim != old_dim:\n",
    "        raise ValueError(f\"Shape mismatch for dimension: '{name}'\\n\"\n",
    "                         f\"    found: {new_dim}\\n\"\n",
    "                         f\"    expected: {old_dim}\\n\")"
   ]
  },
  {
   "cell_type": "markdown",
   "id": "13f60891",
   "metadata": {},
   "source": [
    "Kelas ini digunakan untuk memeriksa bentuk selama latihan."
   ]
  },
  {
   "cell_type": "markdown",
   "id": "82c276f7",
   "metadata": {},
   "source": [
    "### Part 1 | The data"
   ]
  },
  {
   "cell_type": "markdown",
   "id": "60168075",
   "metadata": {},
   "source": [
    "### 1.1 Download and prepare the dataset\n",
    "\n",
    "Berikut adalah tahapan menyiapkan data setelah melakukan download dataset:\n",
    "1. Tambahkan token awal dan akhir untuk setiap kalimat.\n",
    "2. Bersihkan kalimat dengan menghilangkan karakter khusus.\n",
    "3. Buat indeks kata dan indeks kata terbalik (pemetaan kamus dari kata → id dan id →\n",
    "kata).\n",
    "4. Pada setiap kalimat dengan panjang maksimum."
   ]
  },
  {
   "cell_type": "code",
   "execution_count": 5,
   "id": "8e9adc47",
   "metadata": {},
   "outputs": [],
   "source": [
    "# Download the file\n",
    "import pathlib\n",
    "\n",
    "path_to_zip = tf.keras.utils.get_file(\n",
    "    'spa-eng.zip', origin='http://storage.googleapis.com/download.tensorflow.org/data/spa-eng.zip',\n",
    "    extract=True)\n",
    "\n",
    "path_to_file = pathlib.Path(path_to_zip).parent/'spa-eng/spa.txt'"
   ]
  },
  {
   "cell_type": "code",
   "execution_count": 6,
   "id": "12c799df",
   "metadata": {},
   "outputs": [],
   "source": [
    "def load_data(path):\n",
    "  text = path.read_text(encoding='utf-8')\n",
    "\n",
    "  lines = text.splitlines()\n",
    "  pairs = [line.split('\\t') for line in lines]\n",
    "\n",
    "  inp = [inp for targ, inp in pairs]\n",
    "  targ = [targ for targ, inp in pairs]\n",
    "\n",
    "  return targ, inp"
   ]
  },
  {
   "cell_type": "code",
   "execution_count": 7,
   "id": "22961075",
   "metadata": {},
   "outputs": [
    {
     "name": "stdout",
     "output_type": "stream",
     "text": [
      "Si quieres sonar como un hablante nativo, debes estar dispuesto a practicar diciendo la misma frase una y otra vez de la misma manera en que un músico de banjo practica el mismo fraseo una y otra vez hasta que lo puedan tocar correctamente y en el tiempo esperado.\n"
     ]
    }
   ],
   "source": [
    "targ, inp = load_data(path_to_file)\n",
    "print(inp[-1])"
   ]
  },
  {
   "cell_type": "code",
   "execution_count": 8,
   "id": "a89c0b00",
   "metadata": {},
   "outputs": [
    {
     "name": "stdout",
     "output_type": "stream",
     "text": [
      "If you want to sound like a native speaker, you must be willing to practice saying the same sentence over and over in the same way that banjo players practice the same phrase over and over until they can play it correctly and at the desired tempo.\n"
     ]
    }
   ],
   "source": [
    "print(targ[-1])"
   ]
  },
  {
   "cell_type": "markdown",
   "id": "57797a75",
   "metadata": {},
   "source": [
    "### 1.1.1 Create a tf.data dataset\n",
    "\n",
    "Dari array string tersebut, dapat dibuat tf.data.Datasetstring yang dari array string yang melakukan pengacakan dan pengelompokan secara efisien:"
   ]
  },
  {
   "cell_type": "code",
   "execution_count": 9,
   "id": "fabac4b7",
   "metadata": {},
   "outputs": [],
   "source": [
    "BUFFER_SIZE = len(inp)\n",
    "BATCH_SIZE = 64\n",
    "\n",
    "dataset = tf.data.Dataset.from_tensor_slices((inp, targ)).shuffle(BUFFER_SIZE)\n",
    "dataset = dataset.batch(BATCH_SIZE)"
   ]
  },
  {
   "cell_type": "code",
   "execution_count": 10,
   "id": "1d6bd6fb",
   "metadata": {},
   "outputs": [
    {
     "name": "stdout",
     "output_type": "stream",
     "text": [
      "tf.Tensor(\n",
      "[b'No hago una promesa a alguien sin tom\\xc3\\xa1rmelo en serio.'\n",
      " b'Ya he terminado de leer este libro.' b'Me estoy quedando en Italia.'\n",
      " b'\\xc2\\xbfPod\\xc3\\xa9s llamarlo?'\n",
      " b'\\xc3\\x89l dice que no se privar\\xc3\\xa1 de fumar.'], shape=(5,), dtype=string)\n",
      "\n",
      "tf.Tensor(\n",
      "[b\"I don't make a promise to someone without taking it seriously.\"\n",
      " b\"I've already finished reading this book.\" b\"I'm staying in Italy.\"\n",
      " b'Can you call him?' b\"He says that he won't give up smoking.\"], shape=(5,), dtype=string)\n"
     ]
    }
   ],
   "source": [
    "for example_input_batch, example_target_batch in dataset.take(1):\n",
    "  print(example_input_batch[:5])\n",
    "  print()\n",
    "  print(example_target_batch[:5])\n",
    "  break"
   ]
  },
  {
   "cell_type": "markdown",
   "id": "39bda320",
   "metadata": {},
   "source": [
    "### 1.2 Text preprocessing\n",
    "\n",
    "Mengambil tf.stringinput, dan menjalankan tf.stringoutput: untuk membuat model yang diekspor berguna"
   ]
  },
  {
   "cell_type": "markdown",
   "id": "d5927bad",
   "metadata": {},
   "source": [
    "#### 1.2.1 Standardization\n",
    "Model yang digunakan menggunakan teks multibahasa yang terbatas sehingga perlu dilakukan standardisasi. Tahapan yang pertama dilakukan adalah melakukan normalisasi Unicode yang membagi karakter beraksen dan mengganti karakter kompatibilitas dengan ASCII yang setara."
   ]
  },
  {
   "cell_type": "code",
   "execution_count": 11,
   "id": "c346770a",
   "metadata": {},
   "outputs": [
    {
     "name": "stdout",
     "output_type": "stream",
     "text": [
      "b'\\xc2\\xbfTodav\\xc3\\xada est\\xc3\\xa1 en casa?'\n",
      "b'\\xc2\\xbfTodavi\\xcc\\x81a esta\\xcc\\x81 en casa?'\n"
     ]
    }
   ],
   "source": [
    "example_text = tf.constant('¿Todavía está en casa?') \n",
    "\n",
    "print(example_text.numpy())\n",
    "print(tf_text.normalize_utf8(example_text, 'NFKD').numpy())"
   ]
  },
  {
   "cell_type": "code",
   "execution_count": 12,
   "id": "b1f263c8",
   "metadata": {},
   "outputs": [],
   "source": [
    "def tf_lower_and_split_punct(text):\n",
    "  # Split accecented characters.\n",
    "  text = tf_text.normalize_utf8(text, 'NFKD')\n",
    "  text = tf.strings.lower(text)\n",
    "  # Keep space, a to z, and select punctuation.\n",
    "  text = tf.strings.regex_replace(text, '[^ a-z.?!,¿]', '')\n",
    "  # Add spaces around punctuation.\n",
    "  text = tf.strings.regex_replace(text, '[.?!,¿]', r' \\0 ')\n",
    "  # Strip whitespace.\n",
    "  text = tf.strings.strip(text)\n",
    "\n",
    "  text = tf.strings.join(['[START]', text, '[END]'], separator=' ')\n",
    "  return text"
   ]
  },
  {
   "cell_type": "code",
   "execution_count": 13,
   "id": "66889e3b",
   "metadata": {},
   "outputs": [
    {
     "name": "stdout",
     "output_type": "stream",
     "text": [
      "¿Todavía está en casa?\n",
      "[START] ¿ todavia esta en casa ? [END]\n"
     ]
    }
   ],
   "source": [
    "print(example_text.numpy().decode())\n",
    "print(tf_lower_and_split_punct(example_text).numpy().decode())"
   ]
  },
  {
   "cell_type": "markdown",
   "id": "739faf2f",
   "metadata": {},
   "source": [
    "#### 1.2.2 Text Vectorization\n",
    "Fungsi standardisasi ini akan dibungkus dalam lapisan preprocessing.TextVectorization\n",
    "yang akan menangani ekstraksi kosakata dan konversi teks input ke urutan token"
   ]
  },
  {
   "cell_type": "code",
   "execution_count": 14,
   "id": "fd5af1e2",
   "metadata": {},
   "outputs": [],
   "source": [
    "max_vocab_size = 5000\n",
    "\n",
    "input_text_processor = preprocessing.TextVectorization(\n",
    "    standardize=tf_lower_and_split_punct,\n",
    "    max_tokens=max_vocab_size)"
   ]
  },
  {
   "cell_type": "markdown",
   "id": "c890773e",
   "metadata": {},
   "source": [
    "The TextVectorizationlayer dan experimental.preprocessinglapisan lainnya memiliki adaptmetode. Satu epoch dari data pelatihan, akan dibaca oleh metode ini dan bekerja sangat mirip dengan Model.fix. Metode adapt ini menginisialisasi lapisan berdasarkan data. Di sinilah kita akan menentukan kosakata:"
   ]
  },
  {
   "cell_type": "code",
   "execution_count": 15,
   "id": "678adc1f",
   "metadata": {},
   "outputs": [
    {
     "data": {
      "text/plain": [
       "['', '[UNK]', '[START]', '[END]', '.', 'que', 'de', 'el', 'a', 'no']"
      ]
     },
     "execution_count": 15,
     "metadata": {},
     "output_type": "execute_result"
    }
   ],
   "source": [
    "input_text_processor.adapt(inp)\n",
    "\n",
    "# Here are the first 10 words from the vocabulary:\n",
    "input_text_processor.get_vocabulary()[:10]"
   ]
  },
  {
   "cell_type": "markdown",
   "id": "d336fa19",
   "metadata": {},
   "source": [
    "TextVectorizationlayer Spanyol telah ditampilkan pada output sebelumnya, selanjutnya build dan layer .adapt() Inggris:"
   ]
  },
  {
   "cell_type": "code",
   "execution_count": 16,
   "id": "a338590b",
   "metadata": {},
   "outputs": [
    {
     "data": {
      "text/plain": [
       "['', '[UNK]', '[START]', '[END]', '.', 'the', 'i', 'to', 'you', 'tom']"
      ]
     },
     "execution_count": 16,
     "metadata": {},
     "output_type": "execute_result"
    }
   ],
   "source": [
    "output_text_processor = preprocessing.TextVectorization(\n",
    "    standardize=tf_lower_and_split_punct,\n",
    "    max_tokens=max_vocab_size)\n",
    "\n",
    "output_text_processor.adapt(targ)\n",
    "output_text_processor.get_vocabulary()[:10]"
   ]
  },
  {
   "cell_type": "markdown",
   "id": "1a9197d2",
   "metadata": {},
   "source": [
    "Layer ini dapat mengubah kumpulan string menjadi kumpulan ID token:"
   ]
  },
  {
   "cell_type": "code",
   "execution_count": 17,
   "id": "424eb6f7",
   "metadata": {},
   "outputs": [
    {
     "data": {
      "text/plain": [
       "<tf.Tensor: shape=(3, 10), dtype=int64, numpy=\n",
       "array([[   2,    9, 1132,   23, 1343,    8,  155,  139,    1,   14],\n",
       "       [   2,   89,   74,  571,    6,  266,   40,  105,    4,    3],\n",
       "       [   2,   18,   41, 2258,   14, 1469,    4,    3,    0,    0]],\n",
       "      dtype=int64)>"
      ]
     },
     "execution_count": 17,
     "metadata": {},
     "output_type": "execute_result"
    }
   ],
   "source": [
    "example_tokens = input_text_processor(example_input_batch)\n",
    "example_tokens[:3, :10]"
   ]
  },
  {
   "cell_type": "markdown",
   "id": "61f752d1",
   "metadata": {},
   "source": [
    "Method get_vocabulary digunakan untuk mengkonversi ID tanda kembali ke teks:"
   ]
  },
  {
   "cell_type": "code",
   "execution_count": 18,
   "id": "a776fc58",
   "metadata": {},
   "outputs": [
    {
     "data": {
      "text/plain": [
       "'[START] no hago una promesa a alguien sin [UNK] en serio . [END]                            '"
      ]
     },
     "execution_count": 18,
     "metadata": {},
     "output_type": "execute_result"
    }
   ],
   "source": [
    "input_vocab = np.array(input_text_processor.get_vocabulary())\n",
    "tokens = input_vocab[example_tokens[0].numpy()]\n",
    "' '.join(tokens)"
   ]
  },
  {
   "cell_type": "markdown",
   "id": "e89f9720",
   "metadata": {},
   "source": [
    "ID token yang dikembalikan tidak diisi. Ini dapat dengan mudah diubah menjadi mask:"
   ]
  },
  {
   "cell_type": "code",
   "execution_count": 19,
   "id": "61f35d11",
   "metadata": {},
   "outputs": [
    {
     "data": {
      "text/plain": [
       "Text(0.5, 1.0, 'Mask')"
      ]
     },
     "execution_count": 19,
     "metadata": {},
     "output_type": "execute_result"
    },
    {
     "data": {
      "image/png": "[encoded data removed]",
      "text/plain": [
       "<Figure size 432x288 with 2 Axes>"
      ]
     },
     "metadata": {
      "needs_background": "light"
     },
     "output_type": "display_data"
    }
   ],
   "source": [
    "plt.subplot(1, 2, 1)\n",
    "plt.pcolormesh(example_tokens)\n",
    "plt.title('Token IDs')\n",
    "\n",
    "plt.subplot(1, 2, 2)\n",
    "plt.pcolormesh(example_tokens != 0)\n",
    "plt.title('Mask')"
   ]
  },
  {
   "cell_type": "markdown",
   "id": "e3270aa5",
   "metadata": {},
   "source": [
    "### Part 2 | The encoder/decoder model\n",
    "Diagram berikut menunjukkan gambaran umum model. Pada setiap langkah waktu, output dekoder digabungkan dengan jumlah bobot di atas input yang dikodekan, untuk memprediksi kata berikutnya.\n",
    "![title](images.jpg)\n",
    "Sebelum masuk ke dalamnya, kita harus menentukan beberapa konstanta untuk model terlebih dahulu"
   ]
  },
  {
   "cell_type": "code",
   "execution_count": 20,
   "id": "b1ccf54b",
   "metadata": {},
   "outputs": [],
   "source": [
    "embedding_dim = 256\n",
    "units = 1024"
   ]
  },
  {
   "cell_type": "markdown",
   "id": "7a7e36c5",
   "metadata": {},
   "source": [
    "#### 2.1 The encoder\n",
    "Bagian biru dari diagram di atas adalah encoder.Encoder :\n",
    "1.   Mengambil daftar ID token (dari input_text_processor).\n",
    "2.   Mencari vektor penyematan untuk setiap token (Menggunakan a layers.Embedding).\n",
    "3.   Memproses embeddings menjadi urutan baru (Menggunakan sebuah layers.GRU).\n",
    "4.   Returns:\n",
    "      * Urutan yang diproses. \n",
    "      * Keadaan internal. "
   ]
  },
  {
   "cell_type": "code",
   "execution_count": 21,
   "id": "630b1287",
   "metadata": {},
   "outputs": [],
   "source": [
    "class Encoder(tf.keras.layers.Layer):\n",
    "  def __init__(self, input_vocab_size, embedding_dim, enc_units):\n",
    "    super(Encoder, self).__init__()\n",
    "    self.enc_units = enc_units\n",
    "    self.input_vocab_size = input_vocab_size\n",
    "\n",
    "    # The embedding layer converts tokens to vectors\n",
    "    self.embedding = tf.keras.layers.Embedding(self.input_vocab_size,\n",
    "                                               embedding_dim)\n",
    "\n",
    "    # The GRU RNN layer processes those vectors sequentially.\n",
    "    self.gru = tf.keras.layers.GRU(self.enc_units,\n",
    "                                   # Return the sequence and state\n",
    "                                   return_sequences=True,\n",
    "                                   return_state=True,\n",
    "                                   recurrent_initializer='glorot_uniform')\n",
    "\n",
    "  def call(self, tokens, state=None):\n",
    "    shape_checker = ShapeChecker()\n",
    "    shape_checker(tokens, ('batch', 's'))\n",
    "\n",
    "    # 2. The embedding layer looks up the embedding for each token.\n",
    "    vectors = self.embedding(tokens)\n",
    "    shape_checker(vectors, ('batch', 's', 'embed_dim'))\n",
    "\n",
    "    # 3. The GRU processes the embedding sequence.\n",
    "    #    output shape: (batch, s, enc_units)\n",
    "    #    state shape: (batch, enc_units)\n",
    "    output, state = self.gru(vectors, initial_state=state)\n",
    "    shape_checker(output, ('batch', 's', 'enc_units'))\n",
    "    shape_checker(state, ('batch', 'enc_units'))\n",
    "\n",
    "    # 4. Returns the new sequence and its state.\n",
    "    return output, state"
   ]
  },
  {
   "cell_type": "code",
   "execution_count": 22,
   "id": "61f44540",
   "metadata": {},
   "outputs": [
    {
     "name": "stdout",
     "output_type": "stream",
     "text": [
      "Input batch, shape (batch): (64,)\n",
      "Input batch tokens, shape (batch, s): (64, 41)\n",
      "Encoder output, shape (batch, s, units): (64, 41, 1024)\n",
      "Encoder state, shape (batch, units): (64, 1024)\n"
     ]
    }
   ],
   "source": [
    "# Convert the input text to tokens.\n",
    "example_tokens = input_text_processor(example_input_batch)\n",
    "\n",
    "# Encode the input sequence.\n",
    "encoder = Encoder(input_text_processor.vocabulary_size(),\n",
    "                  embedding_dim, units)\n",
    "example_enc_output, example_enc_state = encoder(example_tokens)\n",
    "\n",
    "print(f'Input batch, shape (batch): {example_input_batch.shape}')\n",
    "print(f'Input batch tokens, shape (batch, s): {example_tokens.shape}')\n",
    "print(f'Encoder output, shape (batch, s, units): {example_enc_output.shape}')\n",
    "print(f'Encoder state, shape (batch, units): {example_enc_state.shape}')"
   ]
  },
  {
   "cell_type": "markdown",
   "id": "52f31fbe",
   "metadata": {},
   "source": [
    "Encoder mengembalikan state internalnya sehingga statenya dapat digunakan untuk menginisialisasi decoder.\n",
    "RNN juga umum untuk mengembalikan statenya sehingga dapat memproses urutan melalui beberapa panggilan. "
   ]
  },
  {
   "cell_type": "markdown",
   "id": "b9f65bb8",
   "metadata": {},
   "source": [
    "### 2.2 The attention head\n",
    "Decoder menggunakan attention untuk selektif fokus pada bagian dari urutan input. Lapisan attention ini mirip dengan sebuah layers.GlobalAveragePoling1D tetapi lapisan attention melakukan rata-rata tertimbang. Kelas di bawah ini menangani matriks bobot dalam sepasang layers.Denselapisan, dan memanggil implementasi bawaan."
   ]
  },
  {
   "cell_type": "code",
   "execution_count": 23,
   "id": "ea91d5be",
   "metadata": {},
   "outputs": [],
   "source": [
    "class BahdanauAttention(tf.keras.layers.Layer):\n",
    "  def __init__(self, units):\n",
    "    super().__init__()\n",
    "    # For Eqn. (4), the  Bahdanau attention\n",
    "    self.W1 = tf.keras.layers.Dense(units, use_bias=False)\n",
    "    self.W2 = tf.keras.layers.Dense(units, use_bias=False)\n",
    "\n",
    "    self.attention = tf.keras.layers.AdditiveAttention()\n",
    "\n",
    "  def call(self, query, value, mask):\n",
    "    shape_checker = ShapeChecker()\n",
    "    shape_checker(query, ('batch', 't', 'query_units'))\n",
    "    shape_checker(value, ('batch', 's', 'value_units'))\n",
    "    shape_checker(mask, ('batch', 's'))\n",
    "\n",
    "    # From Eqn. (4), `W1@ht`.\n",
    "    w1_query = self.W1(query)\n",
    "    shape_checker(w1_query, ('batch', 't', 'attn_units'))\n",
    "\n",
    "    # From Eqn. (4), `W2@hs`.\n",
    "    w2_key = self.W2(value)\n",
    "    shape_checker(w2_key, ('batch', 's', 'attn_units'))\n",
    "\n",
    "    query_mask = tf.ones(tf.shape(query)[:-1], dtype=bool)\n",
    "    value_mask = mask\n",
    "\n",
    "    context_vector, attention_weights = self.attention(\n",
    "        inputs = [w1_query, value, w2_key],\n",
    "        mask=[query_mask, value_mask],\n",
    "        return_attention_scores = True,\n",
    "    )\n",
    "    shape_checker(context_vector, ('batch', 't', 'value_units'))\n",
    "    shape_checker(attention_weights, ('batch', 't', 's'))\n",
    "\n",
    "    return context_vector, attention_weights"
   ]
  },
  {
   "cell_type": "markdown",
   "id": "74836e76",
   "metadata": {},
   "source": [
    "### 2.3 Test the Attention layer\n",
    "Create a BahdanauAttention layer:"
   ]
  },
  {
   "cell_type": "code",
   "execution_count": 24,
   "id": "a36a241f",
   "metadata": {},
   "outputs": [],
   "source": [
    "attention_layer = BahdanauAttention(units)"
   ]
  },
  {
   "cell_type": "markdown",
   "id": "d5720ce6",
   "metadata": {},
   "source": [
    "Lapisan ini membutuhkan 3 input:\n",
    "*   **query**: Akan dihasilkan oleh decoder, nanti.\n",
    "*   **value**: Akan menjadi output dari encoder.\n",
    "*   **mask:** Untuk mengecualikan padding,example_tokens != 0"
   ]
  },
  {
   "cell_type": "code",
   "execution_count": 25,
   "id": "30894d5c",
   "metadata": {},
   "outputs": [
    {
     "data": {
      "text/plain": [
       "TensorShape([64, 41])"
      ]
     },
     "execution_count": 25,
     "metadata": {},
     "output_type": "execute_result"
    }
   ],
   "source": [
    "(example_tokens != 0).shape"
   ]
  },
  {
   "cell_type": "markdown",
   "id": "ed54d43e",
   "metadata": {},
   "source": [
    "Implementasi vektor dari lapisan perhatian memungkinkan untuk melintasi rangkaian vektor kueri dan rangkaian vektor nilai dan hasilnya adalah:\n",
    "*   Kumpulan urutan vektor hasil ukuran kueri.\n",
    "*   Sebuah batch attention maps, dengan ukuran (query_length, value_length)."
   ]
  },
  {
   "cell_type": "code",
   "execution_count": 26,
   "id": "727898c9",
   "metadata": {},
   "outputs": [
    {
     "name": "stdout",
     "output_type": "stream",
     "text": [
      "Attention result shape: (batch_size, query_seq_length, units):           (64, 2, 1024)\n",
      "Attention weights shape: (batch_size, query_seq_length, value_seq_length): (64, 2, 41)\n"
     ]
    }
   ],
   "source": [
    "# Later, the decoder will generate this attention query\n",
    "example_attention_query = tf.random.normal(shape=[len(example_tokens), 2, 10])\n",
    "\n",
    "# Attend to the encoded tokens\n",
    "\n",
    "context_vector, attention_weights = attention_layer(\n",
    "    query=example_attention_query,\n",
    "    value=example_enc_output,\n",
    "    mask=(example_tokens != 0))\n",
    "\n",
    "print(f'Attention result shape: (batch_size, query_seq_length, units):           {context_vector.shape}')\n",
    "print(f'Attention weights shape: (batch_size, query_seq_length, value_seq_length): {attention_weights.shape}')"
   ]
  },
  {
   "cell_type": "markdown",
   "id": "84e893d7",
   "metadata": {},
   "source": [
    "Bobot attention harus dijumlahkan 1.0untuk setiap urutan.\n",
    "\n",
    "Berikut adalah bobot attention di seluruh urutan di t=0:"
   ]
  },
  {
   "cell_type": "code",
   "execution_count": 27,
   "id": "d7f3bef4",
   "metadata": {},
   "outputs": [
    {
     "data": {
      "text/plain": [
       "Text(0.5, 1.0, 'Mask')"
      ]
     },
     "execution_count": 27,
     "metadata": {},
     "output_type": "execute_result"
    },
    {
     "data": {
      "image/png": "[encoded data removed]",
      "text/plain": [
       "<Figure size 432x288 with 2 Axes>"
      ]
     },
     "metadata": {
      "needs_background": "light"
     },
     "output_type": "display_data"
    }
   ],
   "source": [
    "plt.subplot(1, 2, 1)\n",
    "plt.pcolormesh(attention_weights[:, 0, :])\n",
    "plt.title('Attention weights')\n",
    "\n",
    "plt.subplot(1, 2, 2)\n",
    "plt.pcolormesh(example_tokens != 0)\n",
    "plt.title('Mask')"
   ]
  },
  {
   "cell_type": "markdown",
   "id": "91b5a1a6",
   "metadata": {},
   "source": [
    "Bobot attention semuanya mendekati 1/(sequence_length), karena inisialisasi acaknya kecil. Apabila bobot untuk satu urutan diperbesar, maka beberapa variasi kecil yang dapat dipelajari dan dikembangkan oleh model untuk dikembangkan bisa dilihat."
   ]
  },
  {
   "cell_type": "code",
   "execution_count": 28,
   "id": "8a59f45f",
   "metadata": {},
   "outputs": [
    {
     "data": {
      "text/plain": [
       "TensorShape([64, 2, 41])"
      ]
     },
     "execution_count": 28,
     "metadata": {},
     "output_type": "execute_result"
    }
   ],
   "source": [
    "attention_weights.shape"
   ]
  },
  {
   "cell_type": "code",
   "execution_count": 29,
   "id": "8492aca0",
   "metadata": {},
   "outputs": [],
   "source": [
    "attention_slice = attention_weights[0, 0].numpy()\n",
    "attention_slice = attention_slice[attention_slice != 0]"
   ]
  },
  {
   "cell_type": "code",
   "execution_count": 30,
   "id": "b41b7602",
   "metadata": {},
   "outputs": [
    {
     "data": {
      "text/plain": [
       "[<matplotlib.lines.Line2D at 0x24511afa520>]"
      ]
     },
     "execution_count": 30,
     "metadata": {},
     "output_type": "execute_result"
    },
    {
     "data": {
      "text/plain": [
       "<Figure size 432x288 with 0 Axes>"
      ]
     },
     "metadata": {},
     "output_type": "display_data"
    },
    {
     "data": {
      "image/png": "[encoded data removed]",
      "text/plain": [
       "<Figure size 864x432 with 2 Axes>"
      ]
     },
     "metadata": {
      "needs_background": "light"
     },
     "output_type": "display_data"
    }
   ],
   "source": [
    "#@title\n",
    "plt.suptitle('Attention weights for one sequence')\n",
    "\n",
    "plt.figure(figsize=(12, 6))\n",
    "a1 = plt.subplot(1, 2, 1)\n",
    "plt.bar(range(len(attention_slice)), attention_slice)\n",
    "# freeze the xlim\n",
    "plt.xlim(plt.xlim())\n",
    "plt.xlabel('Attention weights')\n",
    "\n",
    "a2 = plt.subplot(1, 2, 2)\n",
    "plt.bar(range(len(attention_slice)), attention_slice)\n",
    "plt.xlabel('Attention weights, zoomed')\n",
    "\n",
    "# zoom in\n",
    "top = max(a1.get_ylim())\n",
    "zoom = 0.85*top\n",
    "a2.set_ylim([0.90*top, top])\n",
    "a1.plot(a1.get_xlim(), [zoom, zoom], color='k')"
   ]
  },
  {
   "cell_type": "markdown",
   "id": "5746be1c",
   "metadata": {},
   "source": [
    "Tugas dekoder adalah menghasilkan prediksi untuk token keluaran berikutnya.\n",
    "\n",
    "1.   Decoder menerima output encoder lengkap.\n",
    "2.   Menggunakan RNN untuk melacak apa yang telah dihasilkan sejauh ini.\n",
    "3.  Menggunakan output RNN sebagai permintaan untuk memperhatikan output encoder, menghasilkan vektor konteks.\n",
    "4.   Menggabungkan output RNN dan vektor konteks menggunakan Persamaan 3 (di bawah) untuk menghasilkan \"vektor attention\".\n",
    "5.   Menghasilkan prediksi logit untuk token berikutnya berdasarkan \"vektor attention\".\n",
    "\n",
    "Berikut Decoderkelas dan penginisialisasinya dimana penginisialisasi akan membuat semua lapisan yang diperlukan."
   ]
  },
  {
   "cell_type": "code",
   "execution_count": 31,
   "id": "58233f33",
   "metadata": {},
   "outputs": [],
   "source": [
    "class Decoder(tf.keras.layers.Layer):\n",
    "  def __init__(self, output_vocab_size, embedding_dim, dec_units):\n",
    "    super(Decoder, self).__init__()\n",
    "    self.dec_units = dec_units\n",
    "    self.output_vocab_size = output_vocab_size\n",
    "    self.embedding_dim = embedding_dim\n",
    "\n",
    "    # For Step 1. The embedding layer convets token IDs to vectors\n",
    "    self.embedding = tf.keras.layers.Embedding(self.output_vocab_size,\n",
    "                                               embedding_dim)\n",
    "\n",
    "    # For Step 2. The RNN keeps track of what's been generated so far.\n",
    "    self.gru = tf.keras.layers.GRU(self.dec_units,\n",
    "                                   return_sequences=True,\n",
    "                                   return_state=True,\n",
    "                                   recurrent_initializer='glorot_uniform')\n",
    "\n",
    "    # For step 3. The RNN output will be the query for the attention layer.\n",
    "    self.attention = BahdanauAttention(self.dec_units)\n",
    "\n",
    "    # For step 4. Eqn. (3): converting `ct` to `at`\n",
    "    self.Wc = tf.keras.layers.Dense(dec_units, activation=tf.math.tanh,\n",
    "                                    use_bias=False)\n",
    "\n",
    "    # For step 5. This fully connected layer produces the logits for each\n",
    "    # output token.\n",
    "    self.fc = tf.keras.layers.Dense(self.output_vocab_size)"
   ]
  },
  {
   "cell_type": "markdown",
   "id": "49c52175",
   "metadata": {},
   "source": [
    "Metode call untuk lapisan ini mengambil dan mengembalikan beberapa tensor."
   ]
  },
  {
   "cell_type": "code",
   "execution_count": 32,
   "id": "e3b6d25f",
   "metadata": {},
   "outputs": [],
   "source": [
    "class DecoderInput(typing.NamedTuple):\n",
    "  new_tokens: Any\n",
    "  enc_output: Any\n",
    "  mask: Any\n",
    "\n",
    "class DecoderOutput(typing.NamedTuple):\n",
    "  logits: Any\n",
    "  attention_weights: Any"
   ]
  },
  {
   "cell_type": "markdown",
   "id": "d6d954f4",
   "metadata": {},
   "source": [
    "Berikut implementasi dari callmetodenya."
   ]
  },
  {
   "cell_type": "code",
   "execution_count": 33,
   "id": "c8cc16c2",
   "metadata": {},
   "outputs": [],
   "source": [
    "def call(self,\n",
    "         inputs: DecoderInput,\n",
    "         state=None) -> Tuple[DecoderOutput, tf.Tensor]:\n",
    "  shape_checker = ShapeChecker()\n",
    "  shape_checker(inputs.new_tokens, ('batch', 't'))\n",
    "  shape_checker(inputs.enc_output, ('batch', 's', 'enc_units'))\n",
    "  shape_checker(inputs.mask, ('batch', 's'))\n",
    "\n",
    "  if state is not None:\n",
    "    shape_checker(state, ('batch', 'dec_units'))\n",
    "\n",
    "  # Step 1. Lookup the embeddings\n",
    "  vectors = self.embedding(inputs.new_tokens)\n",
    "  shape_checker(vectors, ('batch', 't', 'embedding_dim'))\n",
    "\n",
    "  # Step 2. Process one step with the RNN\n",
    "  rnn_output, state = self.gru(vectors, initial_state=state)\n",
    "\n",
    "  shape_checker(rnn_output, ('batch', 't', 'dec_units'))\n",
    "  shape_checker(state, ('batch', 'dec_units'))\n",
    "\n",
    "  # Step 3. Use the RNN output as the query for the attention over the\n",
    "  # encoder output.\n",
    "  context_vector, attention_weights = self.attention(\n",
    "      query=rnn_output, value=inputs.enc_output, mask=inputs.mask)\n",
    "  shape_checker(context_vector, ('batch', 't', 'dec_units'))\n",
    "  shape_checker(attention_weights, ('batch', 't', 's'))\n",
    "\n",
    "  # Step 4. Eqn. (3): Join the context_vector and rnn_output\n",
    "  #     [ct; ht] shape: (batch t, value_units + query_units)\n",
    "  context_and_rnn_output = tf.concat([context_vector, rnn_output], axis=-1)\n",
    "\n",
    "  # Step 4. Eqn. (3): `at = tanh(Wc@[ct; ht])`\n",
    "  attention_vector = self.Wc(context_and_rnn_output)\n",
    "  shape_checker(attention_vector, ('batch', 't', 'dec_units'))\n",
    "\n",
    "  # Step 5. Generate logit predictions:\n",
    "  logits = self.fc(attention_vector)\n",
    "  shape_checker(logits, ('batch', 't', 'output_vocab_size'))\n",
    "\n",
    "  return DecoderOutput(logits, attention_weights), state"
   ]
  },
  {
   "cell_type": "code",
   "execution_count": 34,
   "id": "d5e3b903",
   "metadata": {},
   "outputs": [],
   "source": [
    "Decoder.call = call"
   ]
  },
  {
   "cell_type": "markdown",
   "id": "56f339d9",
   "metadata": {},
   "source": [
    "Encoder memproses urutan input penuh dengan satu panggilan ke nya RNN."
   ]
  },
  {
   "cell_type": "code",
   "execution_count": 35,
   "id": "3bc3ccc0",
   "metadata": {},
   "outputs": [],
   "source": [
    "decoder = Decoder(output_text_processor.vocabulary_size(),\n",
    "                  embedding_dim, units)"
   ]
  },
  {
   "cell_type": "markdown",
   "id": "a02ac0e7",
   "metadata": {},
   "source": [
    "Decoder membutuhkan 4 input, yakni:\n",
    "\n",
    "*   new_tokens- Token terakhir yang dihasilkan. Inisialisasi dekoder dengan \"[START]\"token.\n",
    "*   enc_output- Dihasilkan oleh Encoder.\n",
    "*   mask - Tensor boolean yang menunjukkan di mana tokens != 0\n",
    "*   state- stateOutput sebelumnya dari dekoder (keadaan internal RNN dekoder).\n"
   ]
  },
  {
   "cell_type": "code",
   "execution_count": 36,
   "id": "befa689d",
   "metadata": {},
   "outputs": [],
   "source": [
    "# Convert the target sequence, and collect the \"[START]\" tokens\n",
    "example_output_tokens = output_text_processor(example_target_batch)\n",
    "\n",
    "start_index = output_text_processor.get_vocabulary().index('[START]')\n",
    "first_token = tf.constant([[start_index]] * example_output_tokens.shape[0])"
   ]
  },
  {
   "cell_type": "code",
   "execution_count": 37,
   "id": "da200b35",
   "metadata": {},
   "outputs": [
    {
     "name": "stdout",
     "output_type": "stream",
     "text": [
      "logits shape: (batch_size, t, output_vocab_size) (64, 1, 5000)\n",
      "state shape: (batch_size, dec_units) (64, 1024)\n"
     ]
    }
   ],
   "source": [
    "# Run the decoder\n",
    "dec_result, dec_state = decoder(\n",
    "    inputs = DecoderInput(new_tokens=first_token,\n",
    "                          enc_output=example_enc_output,\n",
    "                          mask=(example_tokens != 0)),\n",
    "    state = example_enc_state\n",
    ")\n",
    "\n",
    "print(f'logits shape: (batch_size, t, output_vocab_size) {dec_result.logits.shape}')\n",
    "print(f'state shape: (batch_size, dec_units) {dec_state.shape}')"
   ]
  },
  {
   "cell_type": "code",
   "execution_count": 38,
   "id": "ca8a95f8",
   "metadata": {},
   "outputs": [],
   "source": [
    "sampled_token = tf.random.categorical(dec_result.logits[:, 0, :], num_samples=1)"
   ]
  },
  {
   "cell_type": "markdown",
   "id": "b1ef164c",
   "metadata": {},
   "source": [
    "Decode token sebagai kata pertama dari output:"
   ]
  },
  {
   "cell_type": "code",
   "execution_count": 39,
   "id": "3b019264",
   "metadata": {},
   "outputs": [
    {
     "data": {
      "text/plain": [
       "array([['anticipated'],\n",
       "       ['closing'],\n",
       "       ['unemployed'],\n",
       "       ['plate'],\n",
       "       ['ham']], dtype='<U16')"
      ]
     },
     "execution_count": 39,
     "metadata": {},
     "output_type": "execute_result"
    }
   ],
   "source": [
    "vocab = np.array(output_text_processor.get_vocabulary())\n",
    "first_word = vocab[sampled_token.numpy()]\n",
    "first_word[:5]"
   ]
  },
  {
   "cell_type": "markdown",
   "id": "a3cb25e7",
   "metadata": {},
   "source": [
    "Menggunakan dekoder untuk menghasilkan set log kedua."
   ]
  },
  {
   "cell_type": "code",
   "execution_count": 40,
   "id": "c1d06ec5",
   "metadata": {},
   "outputs": [],
   "source": [
    "dec_result, dec_state = decoder(\n",
    "    DecoderInput(sampled_token,\n",
    "                 example_enc_output,\n",
    "                 mask=(example_tokens != 0)),\n",
    "    state=dec_state)"
   ]
  },
  {
   "cell_type": "code",
   "execution_count": 41,
   "id": "40191d00",
   "metadata": {},
   "outputs": [
    {
     "data": {
      "text/plain": [
       "array([['climbed'],\n",
       "       ['argue'],\n",
       "       ['pleasant'],\n",
       "       ['aimed'],\n",
       "       ['england']], dtype='<U16')"
      ]
     },
     "execution_count": 41,
     "metadata": {},
     "output_type": "execute_result"
    }
   ],
   "source": [
    "sampled_token = tf.random.categorical(dec_result.logits[:, 0, :], num_samples=1)\n",
    "first_word = vocab[sampled_token.numpy()]\n",
    "first_word[:5]"
   ]
  },
  {
   "cell_type": "markdown",
   "id": "5337c5c1",
   "metadata": {},
   "source": [
    "### Part 3 | Training\n",
    "untuk melatih sebuah model, dibutuhkan:\n",
    "*   sebuah loss function dan pengoptimalan\n",
    "*   fungsi training step\n",
    "*   Training loop untuk mendorng pelatihan dan menyimpan pos pemeriksaan."
   ]
  },
  {
   "cell_type": "markdown",
   "id": "395b2841",
   "metadata": {},
   "source": [
    "### 3.1 Define the loss function"
   ]
  },
  {
   "cell_type": "code",
   "execution_count": 42,
   "id": "e56fc816",
   "metadata": {},
   "outputs": [],
   "source": [
    "class MaskedLoss(tf.keras.losses.Loss):\n",
    "  def __init__(self):\n",
    "    self.name = 'masked_loss'\n",
    "    self.loss = tf.keras.losses.SparseCategoricalCrossentropy(\n",
    "        from_logits=True, reduction='none')\n",
    "\n",
    "  def __call__(self, y_true, y_pred):\n",
    "    shape_checker = ShapeChecker()\n",
    "    shape_checker(y_true, ('batch', 't'))\n",
    "    shape_checker(y_pred, ('batch', 't', 'logits'))\n",
    "\n",
    "    # Calculate the loss for each item in the batch.\n",
    "    loss = self.loss(y_true, y_pred)\n",
    "    shape_checker(loss, ('batch', 't'))\n",
    "\n",
    "    # Mask off the losses on padding.\n",
    "    mask = tf.cast(y_true != 0, tf.float32)\n",
    "    shape_checker(mask, ('batch', 't'))\n",
    "    loss *= mask\n",
    "\n",
    "    # Return the total.\n",
    "    return tf.reduce_sum(loss)"
   ]
  },
  {
   "cell_type": "markdown",
   "id": "a566e4fa",
   "metadata": {},
   "source": [
    "### 3.2 Implement the training step\n",
    "Melalui model ini, train_step akan diimplementasikan dari proses training dimana train_stepmetodenya sebagai pembungkus di area _train_step."
   ]
  },
  {
   "cell_type": "code",
   "execution_count": 43,
   "id": "174499d1",
   "metadata": {},
   "outputs": [],
   "source": [
    "class TrainTranslator(tf.keras.Model):\n",
    "  def __init__(self, embedding_dim, units,\n",
    "               input_text_processor,\n",
    "               output_text_processor, \n",
    "               use_tf_function=True):\n",
    "    super().__init__()\n",
    "    # Build the encoder and decoder\n",
    "    encoder = Encoder(input_text_processor.vocabulary_size(),\n",
    "                      embedding_dim, units)\n",
    "    decoder = Decoder(output_text_processor.vocabulary_size(),\n",
    "                      embedding_dim, units)\n",
    "\n",
    "    self.encoder = encoder\n",
    "    self.decoder = decoder\n",
    "    self.input_text_processor = input_text_processor\n",
    "    self.output_text_processor = output_text_processor\n",
    "    self.use_tf_function = use_tf_function\n",
    "    self.shape_checker = ShapeChecker()\n",
    "\n",
    "  def train_step(self, inputs):\n",
    "    self.shape_checker = ShapeChecker()\n",
    "    if self.use_tf_function:\n",
    "      return self._tf_train_step(inputs)\n",
    "    else:\n",
    "      return self._train_step(inputs)"
   ]
  },
  {
   "cell_type": "markdown",
   "id": "d79c3642",
   "metadata": {},
   "source": [
    "Metode _preprocess ditambahkan di bawah"
   ]
  },
  {
   "cell_type": "code",
   "execution_count": 44,
   "id": "d07c342e",
   "metadata": {},
   "outputs": [],
   "source": [
    "def _preprocess(self, input_text, target_text):\n",
    "  self.shape_checker(input_text, ('batch',))\n",
    "  self.shape_checker(target_text, ('batch',))\n",
    "\n",
    "  # Convert the text to token IDs\n",
    "  input_tokens = self.input_text_processor(input_text)\n",
    "  target_tokens = self.output_text_processor(target_text)\n",
    "  self.shape_checker(input_tokens, ('batch', 's'))\n",
    "  self.shape_checker(target_tokens, ('batch', 't'))\n",
    "\n",
    "  # Convert IDs to masks.\n",
    "  input_mask = input_tokens != 0\n",
    "  self.shape_checker(input_mask, ('batch', 's'))\n",
    "\n",
    "  target_mask = target_tokens != 0\n",
    "  self.shape_checker(target_mask, ('batch', 't'))\n",
    "\n",
    "  return input_tokens, input_mask, target_tokens, target_mask"
   ]
  },
  {
   "cell_type": "code",
   "execution_count": 45,
   "id": "07042a11",
   "metadata": {},
   "outputs": [],
   "source": [
    "TrainTranslator._preprocess = _preprocess"
   ]
  },
  {
   "cell_type": "markdown",
   "id": "4628c5b1",
   "metadata": {},
   "source": [
    "Metode _train_step, menambahkan bawah, menangani langkah-langkah yang tersisa"
   ]
  },
  {
   "cell_type": "code",
   "execution_count": 46,
   "id": "aeeb76e2",
   "metadata": {},
   "outputs": [],
   "source": [
    "def _train_step(self, inputs):\n",
    "  input_text, target_text = inputs  \n",
    "\n",
    "  (input_tokens, input_mask,\n",
    "   target_tokens, target_mask) = self._preprocess(input_text, target_text)\n",
    "\n",
    "  max_target_length = tf.shape(target_tokens)[1]\n",
    "\n",
    "  with tf.GradientTape() as tape:\n",
    "    # Encode the input\n",
    "    enc_output, enc_state = self.encoder(input_tokens)\n",
    "    self.shape_checker(enc_output, ('batch', 's', 'enc_units'))\n",
    "    self.shape_checker(enc_state, ('batch', 'enc_units'))\n",
    "\n",
    "    # Initialize the decoder's state to the encoder's final state.\n",
    "    # This only works if the encoder and decoder have the same number of\n",
    "    # units.\n",
    "    dec_state = enc_state\n",
    "    loss = tf.constant(0.0)\n",
    "\n",
    "    for t in tf.range(max_target_length-1):\n",
    "      # Pass in two tokens from the target sequence:\n",
    "      # 1. The current input to the decoder.\n",
    "      # 2. The target for the decoder's next prediction.\n",
    "      new_tokens = target_tokens[:, t:t+2]\n",
    "      step_loss, dec_state = self._loop_step(new_tokens, input_mask,\n",
    "                                             enc_output, dec_state)\n",
    "      loss = loss + step_loss\n",
    "\n",
    "    # Average the loss over all non padding tokens.\n",
    "    average_loss = loss / tf.reduce_sum(tf.cast(target_mask, tf.float32))\n",
    "\n",
    "  # Apply an optimization step\n",
    "  variables = self.trainable_variables \n",
    "  gradients = tape.gradient(average_loss, variables)\n",
    "  self.optimizer.apply_gradients(zip(gradients, variables))\n",
    "\n",
    "  # Return a dict mapping metric names to current value\n",
    "  return {'batch_loss': average_loss}"
   ]
  },
  {
   "cell_type": "code",
   "execution_count": 47,
   "id": "19750b34",
   "metadata": {},
   "outputs": [],
   "source": [
    "TrainTranslator._train_step = _train_step"
   ]
  },
  {
   "cell_type": "markdown",
   "id": "1144dfe4",
   "metadata": {},
   "source": [
    "Metode _loop_step, ditambahkan di bawah, mengeksekusi decoder dan menghitung kerugian tambahan dan negara decoder baru ( dec_state)."
   ]
  },
  {
   "cell_type": "code",
   "execution_count": 48,
   "id": "a46992e0",
   "metadata": {},
   "outputs": [],
   "source": [
    "def _loop_step(self, new_tokens, input_mask, enc_output, dec_state):\n",
    "  input_token, target_token = new_tokens[:, 0:1], new_tokens[:, 1:2]\n",
    "\n",
    "  # Run the decoder one step.\n",
    "  decoder_input = DecoderInput(new_tokens=input_token,\n",
    "                               enc_output=enc_output,\n",
    "                               mask=input_mask)\n",
    "\n",
    "  dec_result, dec_state = self.decoder(decoder_input, state=dec_state)\n",
    "  self.shape_checker(dec_result.logits, ('batch', 't1', 'logits'))\n",
    "  self.shape_checker(dec_result.attention_weights, ('batch', 't1', 's'))\n",
    "  self.shape_checker(dec_state, ('batch', 'dec_units'))\n",
    "\n",
    "  # `self.loss` returns the total for non-padded tokens\n",
    "  y = target_token\n",
    "  y_pred = dec_result.logits\n",
    "  step_loss = self.loss(y, y_pred)\n",
    "\n",
    "  return step_loss, dec_state"
   ]
  },
  {
   "cell_type": "code",
   "execution_count": 49,
   "id": "551e72ca",
   "metadata": {},
   "outputs": [],
   "source": [
    "TrainTranslator._loop_step = _loop_step"
   ]
  },
  {
   "cell_type": "markdown",
   "id": "2248b6a4",
   "metadata": {},
   "source": [
    "### 3.3 Test the training step\n",
    "Membangun TrainTranslator, dan mengkonfigurasikan untuk pelatihan menggunakan metode Model.compile:"
   ]
  },
  {
   "cell_type": "code",
   "execution_count": 50,
   "id": "d400638f",
   "metadata": {},
   "outputs": [],
   "source": [
    "translator = TrainTranslator(\n",
    "    embedding_dim, units,\n",
    "    input_text_processor=input_text_processor,\n",
    "    output_text_processor=output_text_processor,\n",
    "    use_tf_function=False)\n",
    "\n",
    "# Configure the loss and optimizer\n",
    "translator.compile(\n",
    "    optimizer=tf.optimizers.Adam(),\n",
    "    loss=MaskedLoss(),\n",
    ")"
   ]
  },
  {
   "cell_type": "markdown",
   "id": "422797bf",
   "metadata": {},
   "source": [
    "Melakukan uji coba train_step"
   ]
  },
  {
   "cell_type": "code",
   "execution_count": 51,
   "id": "b40d75c3",
   "metadata": {},
   "outputs": [
    {
     "data": {
      "text/plain": [
       "8.517193191416238"
      ]
     },
     "execution_count": 51,
     "metadata": {},
     "output_type": "execute_result"
    }
   ],
   "source": [
    "np.log(output_text_processor.vocabulary_size())"
   ]
  },
  {
   "cell_type": "code",
   "execution_count": 52,
   "id": "c26bed15",
   "metadata": {},
   "outputs": [
    {
     "name": "stdout",
     "output_type": "stream",
     "text": [
      "{'batch_loss': <tf.Tensor: shape=(), dtype=float32, numpy=7.6669874>}\n",
      "{'batch_loss': <tf.Tensor: shape=(), dtype=float32, numpy=7.636483>}\n",
      "{'batch_loss': <tf.Tensor: shape=(), dtype=float32, numpy=7.578922>}\n",
      "{'batch_loss': <tf.Tensor: shape=(), dtype=float32, numpy=7.405642>}\n",
      "{'batch_loss': <tf.Tensor: shape=(), dtype=float32, numpy=6.6218333>}\n",
      "{'batch_loss': <tf.Tensor: shape=(), dtype=float32, numpy=5.4092264>}\n",
      "{'batch_loss': <tf.Tensor: shape=(), dtype=float32, numpy=4.590914>}\n",
      "{'batch_loss': <tf.Tensor: shape=(), dtype=float32, numpy=4.3783317>}\n",
      "{'batch_loss': <tf.Tensor: shape=(), dtype=float32, numpy=4.3038282>}\n",
      "{'batch_loss': <tf.Tensor: shape=(), dtype=float32, numpy=4.2555594>}\n",
      "\n",
      "CPU times: total: 7min 36s\n",
      "Wall time: 1min 35s\n"
     ]
    }
   ],
   "source": [
    "%%time\n",
    "for n in range(10):\n",
    "  print(translator.train_step([example_input_batch, example_target_batch]))\n",
    "print()"
   ]
  },
  {
   "cell_type": "markdown",
   "id": "b0ba09a1",
   "metadata": {},
   "source": [
    "_train_step metode bekerja, bisa mencoba tf.function -wrapped _tf_train_step , untuk memaksimalkan kinerja sambil pelatihan:"
   ]
  },
  {
   "cell_type": "code",
   "execution_count": 53,
   "id": "a3bba012",
   "metadata": {},
   "outputs": [],
   "source": [
    "@tf.function(input_signature=[[tf.TensorSpec(dtype=tf.string, shape=[None]),\n",
    "                               tf.TensorSpec(dtype=tf.string, shape=[None])]])\n",
    "def _tf_train_step(self, inputs):\n",
    "  return self._train_step(inputs)"
   ]
  },
  {
   "cell_type": "code",
   "execution_count": 54,
   "id": "fccbd13f",
   "metadata": {},
   "outputs": [],
   "source": [
    "TrainTranslator._tf_train_step = _tf_train_step"
   ]
  },
  {
   "cell_type": "code",
   "execution_count": 55,
   "id": "0d313abe",
   "metadata": {},
   "outputs": [],
   "source": [
    "translator.use_tf_function = True"
   ]
  },
  {
   "cell_type": "markdown",
   "id": "52edaea1",
   "metadata": {},
   "source": [
    "Panggilan pertama untuk melacak fungsi"
   ]
  },
  {
   "cell_type": "code",
   "execution_count": 56,
   "id": "b9f141c0",
   "metadata": {},
   "outputs": [
    {
     "data": {
      "text/plain": [
       "{'batch_loss': <tf.Tensor: shape=(), dtype=float32, numpy=4.976188>}"
      ]
     },
     "execution_count": 56,
     "metadata": {},
     "output_type": "execute_result"
    }
   ],
   "source": [
    "translator.train_step([example_input_batch, example_target_batch])"
   ]
  },
  {
   "cell_type": "markdown",
   "id": "4d7ea83b",
   "metadata": {},
   "source": [
    "Untuk melihat bahwa model tersebut dapat memenuhi satu batch input, maka diperlukan tes yang baik"
   ]
  },
  {
   "cell_type": "code",
   "execution_count": 57,
   "id": "fb9bf152",
   "metadata": {},
   "outputs": [
    {
     "name": "stdout",
     "output_type": "stream",
     "text": [
      "{'batch_loss': <tf.Tensor: shape=(), dtype=float32, numpy=4.2055726>}\n",
      "{'batch_loss': <tf.Tensor: shape=(), dtype=float32, numpy=4.107156>}\n",
      "{'batch_loss': <tf.Tensor: shape=(), dtype=float32, numpy=3.970237>}\n",
      "{'batch_loss': <tf.Tensor: shape=(), dtype=float32, numpy=3.8977084>}\n",
      "{'batch_loss': <tf.Tensor: shape=(), dtype=float32, numpy=3.885584>}\n",
      "{'batch_loss': <tf.Tensor: shape=(), dtype=float32, numpy=3.858694>}\n",
      "{'batch_loss': <tf.Tensor: shape=(), dtype=float32, numpy=3.8648908>}\n",
      "{'batch_loss': <tf.Tensor: shape=(), dtype=float32, numpy=3.8521886>}\n",
      "{'batch_loss': <tf.Tensor: shape=(), dtype=float32, numpy=3.8003402>}\n",
      "{'batch_loss': <tf.Tensor: shape=(), dtype=float32, numpy=3.7605438>}\n",
      "\n",
      "CPU times: total: 8min 41s\n",
      "Wall time: 1min 10s\n"
     ]
    }
   ],
   "source": [
    "%%time\n",
    "for n in range(10):\n",
    "  print(translator.train_step([example_input_batch, example_target_batch]))\n",
    "print()"
   ]
  },
  {
   "cell_type": "code",
   "execution_count": 58,
   "id": "637ba4c8",
   "metadata": {},
   "outputs": [
    {
     "name": "stdout",
     "output_type": "stream",
     "text": [
      "....................................................................................................\n"
     ]
    },
    {
     "data": {
      "text/plain": [
       "[<matplotlib.lines.Line2D at 0x24515e13d00>]"
      ]
     },
     "execution_count": 58,
     "metadata": {},
     "output_type": "execute_result"
    },
    {
     "data": {
      "image/png": "[encoded data removed]",
      "text/plain": [
       "<Figure size 432x288 with 1 Axes>"
      ]
     },
     "metadata": {
      "needs_background": "light"
     },
     "output_type": "display_data"
    }
   ],
   "source": [
    "losses = []\n",
    "for n in range(100):\n",
    "  print('.', end='')\n",
    "  logs = translator.train_step([example_input_batch, example_target_batch])\n",
    "  losses.append(logs['batch_loss'].numpy())\n",
    "\n",
    "print()\n",
    "plt.plot(losses)"
   ]
  },
  {
   "cell_type": "markdown",
   "id": "6a4972c1",
   "metadata": {},
   "source": [
    "Salinan model baru untuk dilatih dari awal akan dibuat, karena berdasarkan hasil diatas, bisa kita lihat bahwa langkah pelatihan yang dilakukan berhasil."
   ]
  },
  {
   "cell_type": "code",
   "execution_count": 59,
   "id": "edfccf0e",
   "metadata": {},
   "outputs": [],
   "source": [
    "train_translator = TrainTranslator(\n",
    "    embedding_dim, units,\n",
    "    input_text_processor=input_text_processor,\n",
    "    output_text_processor=output_text_processor)\n",
    "\n",
    "# Configure the loss and optimizer\n",
    "train_translator.compile(\n",
    "    optimizer=tf.optimizers.Adam(),\n",
    "    loss=MaskedLoss(),\n",
    ")"
   ]
  },
  {
   "cell_type": "markdown",
   "id": "db1b2bc7",
   "metadata": {},
   "source": [
    "### 3.4 Train the model"
   ]
  },
  {
   "cell_type": "markdown",
   "id": "307dd02f",
   "metadata": {},
   "source": [
    "Disini, Callback akan digunakan untuk mengumpulkan history batch loss."
   ]
  },
  {
   "cell_type": "code",
   "execution_count": 60,
   "id": "36d391c8",
   "metadata": {},
   "outputs": [],
   "source": [
    "class BatchLogs(tf.keras.callbacks.Callback):\n",
    "  def __init__(self, key):\n",
    "    self.key = key\n",
    "    self.logs = []\n",
    "\n",
    "  def on_train_batch_end(self, n, logs):\n",
    "    self.logs.append(logs[self.key])\n",
    "\n",
    "batch_loss = BatchLogs('batch_loss') "
   ]
  },
  {
   "cell_type": "code",
   "execution_count": null,
   "id": "da187645",
   "metadata": {},
   "outputs": [],
   "source": [
    "train_translator.fit(dataset, epochs=3,\n",
    "                     callbacks=[batch_loss])"
   ]
  },
  {
   "cell_type": "code",
   "execution_count": null,
   "id": "3dcd0ab9",
   "metadata": {},
   "outputs": [],
   "source": [
    "plt.plot(batch_loss.logs)\n",
    "plt.ylim([0, 3])\n",
    "plt.xlabel('Batch #')\n",
    "plt.ylabel('CE/token')"
   ]
  },
  {
   "cell_type": "markdown",
   "id": "88953859",
   "metadata": {},
   "source": [
    "### Part 4 | Translate\n",
    "Sekarang setelah model dilatih, implementasikan fungsi untuk mengeksekusi teks lengkap => terjemahan teks.\n",
    "Untuk ini model perlu membalikkan teks => pemetaan ID token yang disediakan oleh\n",
    "output_text_processor. Itu juga perlu mengetahui ID untuk token khusus. Ini semua dilaksanakan\n",
    "di konstruktor untuk kelas baru. Implementasi metode terjemahan yang sebenarnya akan mengikuti"
   ]
  },
  {
   "cell_type": "code",
   "execution_count": null,
   "id": "6a82b9e3",
   "metadata": {},
   "outputs": [],
   "source": [
    "class Translator(tf.Module):\n",
    "\n",
    "  def __init__(self, encoder, decoder, input_text_processor,\n",
    "               output_text_processor):\n",
    "    self.encoder = encoder\n",
    "    self.decoder = decoder\n",
    "    self.input_text_processor = input_text_processor\n",
    "    self.output_text_processor = output_text_processor\n",
    "\n",
    "    self.output_token_string_from_index = (\n",
    "        tf.keras.layers.experimental.preprocessing.StringLookup(\n",
    "            vocabulary=output_text_processor.get_vocabulary(),\n",
    "            mask_token='',\n",
    "            invert=True))\n",
    "\n",
    "    # The output should never generate padding, unknown, or start.\n",
    "    index_from_string = tf.keras.layers.experimental.preprocessing.StringLookup(\n",
    "        vocabulary=output_text_processor.get_vocabulary(), mask_token='')\n",
    "    token_mask_ids = index_from_string(['', '[UNK]', '[START]']).numpy()\n",
    "\n",
    "    token_mask = np.zeros([index_from_string.vocabulary_size()], dtype=np.bool)\n",
    "    token_mask[np.array(token_mask_ids)] = True\n",
    "    self.token_mask = token_mask\n",
    "\n",
    "    self.start_token = index_from_string(tf.constant('[START]'))\n",
    "    self.end_token = index_from_string(tf.constant('[END]'))"
   ]
  },
  {
   "cell_type": "code",
   "execution_count": null,
   "id": "4d5250b9",
   "metadata": {},
   "outputs": [],
   "source": [
    "translator = Translator(\n",
    "    encoder=train_translator.encoder,\n",
    "    decoder=train_translator.decoder,\n",
    "    input_text_processor=input_text_processor,\n",
    "    output_text_processor=output_text_processor,\n",
    ")"
   ]
  },
  {
   "cell_type": "markdown",
   "id": "a699d0f7",
   "metadata": {},
   "source": [
    "### 4.1 Convert token IDs to text\n",
    "Metode pertama yang diterapkan adalah tokens_to_text yang mengubah dari ID token menjadi dapat dibaca manusia\n",
    "teks."
   ]
  },
  {
   "cell_type": "code",
   "execution_count": null,
   "id": "1df59784",
   "metadata": {},
   "outputs": [],
   "source": [
    "def tokens_to_text(self, result_tokens):\n",
    "  shape_checker = ShapeChecker()\n",
    "  shape_checker(result_tokens, ('batch', 't'))\n",
    "  result_text_tokens = self.output_token_string_from_index(result_tokens)\n",
    "  shape_checker(result_text_tokens, ('batch', 't'))\n",
    "\n",
    "  result_text = tf.strings.reduce_join(result_text_tokens,\n",
    "                                       axis=1, separator=' ')\n",
    "  shape_checker(result_text, ('batch'))\n",
    "\n",
    "  result_text = tf.strings.strip(result_text)\n",
    "  shape_checker(result_text, ('batch',))\n",
    "  return result_text"
   ]
  },
  {
   "cell_type": "code",
   "execution_count": null,
   "id": "a9a4a9ba",
   "metadata": {},
   "outputs": [],
   "source": [
    "Translator.tokens_to_text = tokens_to_text"
   ]
  },
  {
   "cell_type": "markdown",
   "id": "1709b849",
   "metadata": {},
   "source": [
    "Masukkan beberapa ID token acak dan lihat apa yang dihasilkannya:"
   ]
  },
  {
   "cell_type": "code",
   "execution_count": null,
   "id": "b7ded4be",
   "metadata": {},
   "outputs": [],
   "source": [
    "example_output_tokens = tf.random.uniform(\n",
    "    shape=[5, 2], minval=0, dtype=tf.int64,\n",
    "    maxval=output_text_processor.vocabulary_size())\n",
    "translator.tokens_to_text(example_output_tokens).numpy()"
   ]
  },
  {
   "cell_type": "markdown",
   "id": "727b14e7",
   "metadata": {},
   "source": [
    "### 4.2 Sample from the decoder's predictions\n",
    "Fungsi ini mengambil keluaran logit dekoder dan mengambil sampel ID token dari distribusi tersebut:"
   ]
  },
  {
   "cell_type": "code",
   "execution_count": null,
   "id": "3af0cea5",
   "metadata": {},
   "outputs": [],
   "source": [
    "def sample(self, logits, temperature):\n",
    "  shape_checker = ShapeChecker()\n",
    "  # 't' is usually 1 here.\n",
    "  shape_checker(logits, ('batch', 't', 'vocab'))\n",
    "  shape_checker(self.token_mask, ('vocab',))\n",
    "\n",
    "  token_mask = self.token_mask[tf.newaxis, tf.newaxis, :]\n",
    "  shape_checker(token_mask, ('batch', 't', 'vocab'), broadcast=True)\n",
    "\n",
    "  # Set the logits for all masked tokens to -inf, so they are never chosen.\n",
    "  logits = tf.where(self.token_mask, -np.inf, logits)\n",
    "\n",
    "  if temperature == 0.0:\n",
    "    new_tokens = tf.argmax(logits, axis=-1)\n",
    "  else: \n",
    "    logits = tf.squeeze(logits, axis=1)\n",
    "    new_tokens = tf.random.categorical(logits/temperature,\n",
    "                                        num_samples=1)\n",
    "  \n",
    "  shape_checker(new_tokens, ('batch', 't'))\n",
    "\n",
    "  return new_tokens"
   ]
  },
  {
   "cell_type": "code",
   "execution_count": null,
   "id": "19097520",
   "metadata": {},
   "outputs": [],
   "source": [
    "Translator.sample = sample"
   ]
  },
  {
   "cell_type": "markdown",
   "id": "76ec9d86",
   "metadata": {},
   "source": [
    "Uji coba fungsi ini pada beberapa input acak:"
   ]
  },
  {
   "cell_type": "code",
   "execution_count": null,
   "id": "ec7c2a8f",
   "metadata": {},
   "outputs": [],
   "source": [
    "example_logits = tf.random.normal([5, 1, output_text_processor.vocabulary_size()])\n",
    "example_output_tokens = translator.sample(example_logits, temperature=1.0)\n",
    "example_output_tokens"
   ]
  },
  {
   "cell_type": "markdown",
   "id": "1f251eab",
   "metadata": {},
   "source": [
    "### 4.3 Implement the translation loop\n",
    "Implementasi dari loop terjemahan teks ke teks secara lengkap. Sebelum menggunakan tf.concat, hasil dari daftar python dikumpulkan untuk digabungkan dalam tensorflow."
   ]
  },
  {
   "cell_type": "code",
   "execution_count": null,
   "id": "e4815582",
   "metadata": {},
   "outputs": [],
   "source": [
    "def translate_unrolled(self,\n",
    "                       input_text, *,\n",
    "                       max_length=50,\n",
    "                       return_attention=True,\n",
    "                       temperature=1.0):\n",
    "  batch_size = tf.shape(input_text)[0]\n",
    "  input_tokens = self.input_text_processor(input_text)\n",
    "  enc_output, enc_state = self.encoder(input_tokens)\n",
    "\n",
    "  dec_state = enc_state\n",
    "  new_tokens = tf.fill([batch_size, 1], self.start_token)\n",
    "\n",
    "  result_tokens = []\n",
    "  attention = []\n",
    "  done = tf.zeros([batch_size, 1], dtype=tf.bool)\n",
    "\n",
    "  for _ in range(max_length):\n",
    "    dec_input = DecoderInput(new_tokens=new_tokens,\n",
    "                             enc_output=enc_output,\n",
    "                             mask=(input_tokens!=0))\n",
    "    \n",
    "    dec_result, dec_state = self.decoder(dec_input, state=dec_state)\n",
    "\n",
    "    attention.append(dec_result.attention_weights)\n",
    "\n",
    "    new_tokens = self.sample(dec_result.logits, temperature)\n",
    "\n",
    "    # If a sequence produces an `end_token`, set it `done`\n",
    "    done = done | (new_tokens == self.end_token)\n",
    "    # Once a sequence is done it only produces 0-padding.\n",
    "    new_tokens = tf.where(done, tf.constant(0, dtype=tf.int64), new_tokens)\n",
    "\n",
    "    # Collect the generated tokens\n",
    "    result_tokens.append(new_tokens)\n",
    "\n",
    "    if tf.executing_eagerly() and tf.reduce_all(done):\n",
    "      break\n",
    "\n",
    "  # Convert the list of generates token ids to a list of strings.\n",
    "  result_tokens = tf.concat(result_tokens, axis=-1)\n",
    "  result_text = self.tokens_to_text(result_tokens)\n",
    "\n",
    "  if return_attention:\n",
    "    attention_stack = tf.concat(attention, axis=1)\n",
    "    return {'text': result_text, 'attention': attention_stack}\n",
    "  else:\n",
    "    return {'text': result_text}"
   ]
  },
  {
   "cell_type": "code",
   "execution_count": null,
   "id": "3a6b20f9",
   "metadata": {},
   "outputs": [],
   "source": [
    "Translator.translate = translate_unrolled"
   ]
  },
  {
   "cell_type": "markdown",
   "id": "9406894a",
   "metadata": {},
   "source": [
    "Jalankan pada sample input :"
   ]
  },
  {
   "cell_type": "code",
   "execution_count": null,
   "id": "3b8da2c9",
   "metadata": {},
   "outputs": [],
   "source": [
    "%%time\n",
    "input_text = tf.constant([\n",
    "    'hace mucho frio aqui.', # \"It's really cold here.\"\n",
    "    'Esta es mi vida.', # \"This is my life.\"\"\n",
    "])\n",
    "\n",
    "result = translator.translate(\n",
    "    input_text = input_text)\n",
    "\n",
    "print(result['text'][0].numpy().decode())\n",
    "print(result['text'][1].numpy().decode())\n",
    "print()"
   ]
  },
  {
   "cell_type": "markdown",
   "id": "d0e469b9",
   "metadata": {},
   "source": [
    "Jika Anda ingin mengekspor model ini, Anda harus membungkus metode ini dalam tf.function. Dasar ini\n",
    "implementasi memiliki beberapa masalah jika Anda mencoba melakukannya:\n",
    "1. Grafik yang dihasilkan sangat besar dan membutuhkan beberapa detik untuk dibuat, disimpan, atau dimuat.\n",
    "2. Anda tidak dapat memutuskan dari loop yang dibuka secara statis, sehingga iterasi akan selalu berjalan max_length, bahkan jika semua output dilakukan. Tapi meski begitu, itu sedikit lebih cepat daripada eksekusi yang bersemangat"
   ]
  },
  {
   "cell_type": "code",
   "execution_count": null,
   "id": "b239cc8e",
   "metadata": {},
   "outputs": [],
   "source": [
    "@tf.function(input_signature=[tf.TensorSpec(dtype=tf.string, shape=[None])])\n",
    "def tf_translate(self, input_text):\n",
    "  return self.translate(input_text)\n",
    "\n",
    "Translator.tf_translate = tf_translate"
   ]
  },
  {
   "cell_type": "markdown",
   "id": "7095ccb5",
   "metadata": {},
   "source": [
    "Run tf.function once to compile it:"
   ]
  },
  {
   "cell_type": "code",
   "execution_count": null,
   "id": "207da668",
   "metadata": {},
   "outputs": [],
   "source": [
    "%%time\n",
    "result = translator.tf_translate(\n",
    "    input_text = input_text)"
   ]
  },
  {
   "cell_type": "code",
   "execution_count": null,
   "id": "9f5d3a63",
   "metadata": {},
   "outputs": [],
   "source": [
    "%%time\n",
    "result = translator.tf_translate(\n",
    "    input_text = input_text)\n",
    "\n",
    "print(result['text'][0].numpy().decode())\n",
    "print(result['text'][1].numpy().decode())\n",
    "print()"
   ]
  },
  {
   "cell_type": "code",
   "execution_count": null,
   "id": "5de6963b",
   "metadata": {},
   "outputs": [],
   "source": [
    "#@title [Optional] Use a symbolic loop\n",
    "def translate_symbolic(self,\n",
    "                       input_text,\n",
    "                       *,\n",
    "                       max_length=50,\n",
    "                       return_attention=True,\n",
    "                       temperature=1.0):\n",
    "  shape_checker = ShapeChecker()\n",
    "  shape_checker(input_text, ('batch',))\n",
    "\n",
    "  batch_size = tf.shape(input_text)[0]\n",
    "\n",
    "  # Encode the input\n",
    "  input_tokens = self.input_text_processor(input_text)\n",
    "  shape_checker(input_tokens, ('batch', 's'))\n",
    "\n",
    "  enc_output, enc_state = self.encoder(input_tokens)\n",
    "  shape_checker(enc_output, ('batch', 's', 'enc_units'))\n",
    "  shape_checker(enc_state, ('batch', 'enc_units'))\n",
    "\n",
    "  # Initialize the decoder\n",
    "  dec_state = enc_state\n",
    "  new_tokens = tf.fill([batch_size, 1], self.start_token)\n",
    "  shape_checker(new_tokens, ('batch', 't1'))\n",
    "\n",
    "  # Initialize the accumulators\n",
    "  result_tokens = tf.TensorArray(tf.int64, size=1, dynamic_size=True)\n",
    "  attention = tf.TensorArray(tf.float32, size=1, dynamic_size=True)\n",
    "  done = tf.zeros([batch_size, 1], dtype=tf.bool)\n",
    "  shape_checker(done, ('batch', 't1'))\n",
    "\n",
    "  for t in tf.range(max_length):\n",
    "    dec_input = DecoderInput(\n",
    "        new_tokens=new_tokens, enc_output=enc_output, mask=(input_tokens != 0))\n",
    "\n",
    "    dec_result, dec_state = self.decoder(dec_input, state=dec_state)\n",
    "\n",
    "    shape_checker(dec_result.attention_weights, ('batch', 't1', 's'))\n",
    "    attention = attention.write(t, dec_result.attention_weights)\n",
    "\n",
    "    new_tokens = self.sample(dec_result.logits, temperature)\n",
    "    shape_checker(dec_result.logits, ('batch', 't1', 'vocab'))\n",
    "    shape_checker(new_tokens, ('batch', 't1'))\n",
    "\n",
    "    # If a sequence produces an `end_token`, set it `done`\n",
    "    done = done | (new_tokens == self.end_token)\n",
    "    # Once a sequence is done it only produces 0-padding.\n",
    "    new_tokens = tf.where(done, tf.constant(0, dtype=tf.int64), new_tokens)\n",
    "\n",
    "    # Collect the generated tokens\n",
    "    result_tokens = result_tokens.write(t, new_tokens)\n",
    "\n",
    "    if tf.reduce_all(done):\n",
    "      break\n",
    "\n",
    "  # Convert the list of generated token ids to a list of strings.\n",
    "  result_tokens = result_tokens.stack()\n",
    "  shape_checker(result_tokens, ('t', 'batch', 't0'))\n",
    "  result_tokens = tf.squeeze(result_tokens, -1)\n",
    "  result_tokens = tf.transpose(result_tokens, [1, 0])\n",
    "  shape_checker(result_tokens, ('batch', 't'))\n",
    "\n",
    "  result_text = self.tokens_to_text(result_tokens)\n",
    "  shape_checker(result_text, ('batch',))\n",
    "\n",
    "  if return_attention:\n",
    "    attention_stack = attention.stack()\n",
    "    shape_checker(attention_stack, ('t', 'batch', 't1', 's'))\n",
    "\n",
    "    attention_stack = tf.squeeze(attention_stack, 2)\n",
    "    shape_checker(attention_stack, ('t', 'batch', 's'))\n",
    "\n",
    "    attention_stack = tf.transpose(attention_stack, [1, 0, 2])\n",
    "    shape_checker(attention_stack, ('batch', 't', 's'))\n",
    "\n",
    "    return {'text': result_text, 'attention': attention_stack}\n",
    "  else:\n",
    "    return {'text': result_text}"
   ]
  },
  {
   "cell_type": "code",
   "execution_count": null,
   "id": "fc50c72d",
   "metadata": {},
   "outputs": [],
   "source": [
    "Translator.translate = translate_symbolic"
   ]
  },
  {
   "cell_type": "markdown",
   "id": "27966e95",
   "metadata": {},
   "source": [
    "tf.range digunakan sebagai loop iterator, yang mana tf.autoraph dimungkinkan untuk mengkonversi loop. Sedangkan tf.Tensorarray digunakan untuk mengumpulkan sejumlah variabel tensor dalam mode grafik."
   ]
  },
  {
   "cell_type": "code",
   "execution_count": null,
   "id": "86736d88",
   "metadata": {},
   "outputs": [],
   "source": [
    "%%time\n",
    "result = translator.translate(\n",
    "    input_text = input_text)\n",
    "\n",
    "print(result['text'][0].numpy().decode())\n",
    "print(result['text'][1].numpy().decode())\n",
    "print()"
   ]
  },
  {
   "cell_type": "code",
   "execution_count": null,
   "id": "cbf6ea92",
   "metadata": {},
   "outputs": [],
   "source": [
    "@tf.function(input_signature=[tf.TensorSpec(dtype=tf.string, shape=[None])])\n",
    "def tf_translate(self, input_text):\n",
    "  return self.translate(input_text)\n",
    "\n",
    "Translator.tf_translate = tf_translate"
   ]
  },
  {
   "cell_type": "code",
   "execution_count": null,
   "id": "63713b12",
   "metadata": {},
   "outputs": [],
   "source": [
    "%%time\n",
    "result = translator.tf_translate(\n",
    "    input_text = input_text)"
   ]
  },
  {
   "cell_type": "code",
   "execution_count": null,
   "id": "9fb63830",
   "metadata": {},
   "outputs": [],
   "source": [
    "%%time\n",
    "result = translator.tf_translate(\n",
    "    input_text = input_text)\n",
    "\n",
    "print(result['text'][0].numpy().decode())\n",
    "print(result['text'][1].numpy().decode())\n",
    "print()"
   ]
  },
  {
   "cell_type": "markdown",
   "id": "6cece2f7",
   "metadata": {},
   "source": [
    "Pembuatan grafik jauh lebih cepat, karena tidak mencipatakan max_iterations salinan model. Kemudian fungsi yang dikompilasi jauh lebih cepat karena dapat keluar dari loop"
   ]
  },
  {
   "cell_type": "markdown",
   "id": "752bddb1",
   "metadata": {},
   "source": [
    "### 4.4 Visualize the process\n",
    "Bobot perhatian yang dikembalikan oleh metode terjemahan menunjukkan di mana model itu \"looking\" ketika\n",
    "itu menghasilkan setiap token keluaran.\n",
    "Jadi jumlah perhatian atas input harus mengembalikan semuanya:"
   ]
  },
  {
   "cell_type": "code",
   "execution_count": null,
   "id": "23c3ae9a",
   "metadata": {},
   "outputs": [],
   "source": [
    "a = result['attention'][0]\n",
    "\n",
    "print(np.sum(a, axis=-1))"
   ]
  },
  {
   "cell_type": "markdown",
   "id": "c8bb9070",
   "metadata": {},
   "source": [
    "Berikut distribusi attention untuk langkah keluaran pertama dari contoh pertama."
   ]
  },
  {
   "cell_type": "code",
   "execution_count": null,
   "id": "ba32d6bd",
   "metadata": {},
   "outputs": [],
   "source": [
    "_ = plt.bar(range(len(a[0, :])), a[0, :])"
   ]
  },
  {
   "cell_type": "markdown",
   "id": "e5ed53a8",
   "metadata": {},
   "source": [
    "Bagian attention jauh lebih terfokus dari pada untuk model yang tidak terlatih. Namun, karena terdapat beberapa keselarasan kasar antara kata-kata input dan output, attentio diharapkan bisa difokuskan di dekat diagonal."
   ]
  },
  {
   "cell_type": "code",
   "execution_count": null,
   "id": "69408abd",
   "metadata": {},
   "outputs": [],
   "source": [
    "plt.imshow(np.array(a), vmin=0.0)"
   ]
  },
  {
   "cell_type": "markdown",
   "id": "27271076",
   "metadata": {},
   "source": [
    "untuk membuat plot attention yang lebih baik, digunakan kode berikut:"
   ]
  },
  {
   "cell_type": "code",
   "execution_count": null,
   "id": "2c81e5af",
   "metadata": {},
   "outputs": [],
   "source": [
    "#@title Labeled attention plots\n",
    "def plot_attention(attention, sentence, predicted_sentence):\n",
    "  sentence = tf_lower_and_split_punct(sentence).numpy().decode().split()\n",
    "  predicted_sentence = predicted_sentence.numpy().decode().split() + ['[END]']\n",
    "  fig = plt.figure(figsize=(10, 10))\n",
    "  ax = fig.add_subplot(1, 1, 1)\n",
    "\n",
    "  attention = attention[:len(predicted_sentence), :len(sentence)]\n",
    "\n",
    "  ax.matshow(attention, cmap='viridis', vmin=0.0)\n",
    "\n",
    "  fontdict = {'fontsize': 14}\n",
    "\n",
    "  ax.set_xticklabels([''] + sentence, fontdict=fontdict, rotation=90)\n",
    "  ax.set_yticklabels([''] + predicted_sentence, fontdict=fontdict)\n",
    "\n",
    "  ax.xaxis.set_major_locator(ticker.MultipleLocator(1))\n",
    "  ax.yaxis.set_major_locator(ticker.MultipleLocator(1))\n",
    "\n",
    "  ax.set_xlabel('Input text')\n",
    "  ax.set_ylabel('Output text')\n",
    "  plt.suptitle('Attention weights')"
   ]
  },
  {
   "cell_type": "code",
   "execution_count": null,
   "id": "c680f63a",
   "metadata": {},
   "outputs": [],
   "source": [
    "i=0\n",
    "plot_attention(result['attention'][i], input_text[i], result['text'][i])"
   ]
  },
  {
   "cell_type": "markdown",
   "id": "1aee9ee6",
   "metadata": {},
   "source": [
    "Untuk menerjemahkan beberapa kalimat lagi dan membuat plotnya."
   ]
  },
  {
   "cell_type": "code",
   "execution_count": null,
   "id": "820eacaa",
   "metadata": {},
   "outputs": [],
   "source": [
    "%%time\n",
    "three_input_text = tf.constant([\n",
    "    # This is my life.\n",
    "    'Esta es mi vida.',\n",
    "    # Are they still home?\n",
    "    '¿Todavía están en casa?',\n",
    "    # Try to find out.'\n",
    "    'Tratar de descubrir.',\n",
    "])\n",
    "\n",
    "result = translator.tf_translate(three_input_text)\n",
    "\n",
    "for tr in result['text']:\n",
    "  print(tr.numpy().decode())\n",
    "\n",
    "print()"
   ]
  },
  {
   "cell_type": "code",
   "execution_count": null,
   "id": "b03a1f8c",
   "metadata": {},
   "outputs": [],
   "source": [
    "result['text']"
   ]
  },
  {
   "cell_type": "code",
   "execution_count": null,
   "id": "2c458313",
   "metadata": {},
   "outputs": [],
   "source": [
    "i = 0\n",
    "plot_attention(result['attention'][i], three_input_text[i], result['text'][i])"
   ]
  },
  {
   "cell_type": "code",
   "execution_count": null,
   "id": "c5db33ee",
   "metadata": {},
   "outputs": [],
   "source": [
    "i = 1\n",
    "plot_attention(result['attention'][i], three_input_text[i], result['text'][i])"
   ]
  },
  {
   "cell_type": "code",
   "execution_count": null,
   "id": "f4b30508",
   "metadata": {},
   "outputs": [],
   "source": [
    "i = 2\n",
    "plot_attention(result['attention'][i], three_input_text[i], result['text'][i])"
   ]
  },
  {
   "cell_type": "code",
   "execution_count": null,
   "id": "c2d6e886",
   "metadata": {},
   "outputs": [],
   "source": [
    "long_input_text = tf.constant([inp[-1]])\n",
    "\n",
    "import textwrap\n",
    "print('Expected output:\\n', '\\n'.join(textwrap.wrap(targ[-1])))"
   ]
  },
  {
   "cell_type": "code",
   "execution_count": null,
   "id": "67f5679f",
   "metadata": {},
   "outputs": [],
   "source": [
    "result = translator.tf_translate(long_input_text)\n",
    "\n",
    "i = 0\n",
    "plot_attention(result['attention'][i], long_input_text[i], result['text'][i])\n",
    "_ = plt.suptitle('This never works')"
   ]
  },
  {
   "cell_type": "markdown",
   "id": "f8fc8b07",
   "metadata": {},
   "source": [
    "### Part 5 | Export\n",
    "Setelah memiliki model yang diinginkan, ada kalanya ingin mengekspornya untuk digunakan di luar program python yang membuatnya sebagai tf.saved_model. Oleh karena itu, bisa diekspor menggunakan saved_model.save."
   ]
  },
  {
   "cell_type": "code",
   "execution_count": null,
   "id": "6d414277",
   "metadata": {},
   "outputs": [],
   "source": [
    "tf.saved_model.save(translator, 'translator',\n",
    "                    signatures={'serving_default': translator.tf_translate})"
   ]
  },
  {
   "cell_type": "code",
   "execution_count": null,
   "id": "76ee074a",
   "metadata": {},
   "outputs": [],
   "source": [
    "reloaded = tf.saved_model.load('translator')\n",
    "result = reloaded.tf_translate(three_input_text)"
   ]
  },
  {
   "cell_type": "code",
   "execution_count": null,
   "id": "3114417b",
   "metadata": {},
   "outputs": [],
   "source": [
    "%%time\n",
    "result = reloaded.tf_translate(three_input_text)\n",
    "\n",
    "for tr in result['text']:\n",
    "  print(tr.numpy().decode())\n",
    "\n",
    "print()"
   ]
  },
  {
   "cell_type": "markdown",
   "id": "5f1eaf5f",
   "metadata": {},
   "source": [
    "### Exploration\n",
    "* Unduh kumpulan data yang berbeda untuk bereksperimen dengan terjemahan, misalnya, Bahasa Inggris ke Bahasa Jerman, atau Bahasa Inggris ke Bahasa Prancis.\n",
    "* Bereksperimen dengan pelatihan pada kumpulan data yang lebih besar, atau menggunakan lebih banyak epochs."
   ]
  },
  {
   "cell_type": "code",
   "execution_count": null,
   "id": "89690054",
   "metadata": {},
   "outputs": [],
   "source": []
  }
 ],
 "metadata": {
  "kernelspec": {
   "display_name": "Python 3 (ipykernel)",
   "language": "python",
   "name": "python3"
  },
  "language_info": {
   "codemirror_mode": {
    "name": "ipython",
    "version": 3
   },
   "file_extension": ".py",
   "mimetype": "text/x-python",
   "name": "python",
   "nbconvert_exporter": "python",
   "pygments_lexer": "ipython3",
   "version": "3.9.12"
  }
 },
 "nbformat": 4,
 "nbformat_minor": 5
}
