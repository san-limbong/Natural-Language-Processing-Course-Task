{
 "cells": [
  {
   "cell_type": "markdown",
   "id": "2924bc8f",
   "metadata": {},
   "source": [
    "Nama  : San Antonio Limbong\n",
    "\n",
    "NIM   : 12S19033"
   ]
  },
  {
   "cell_type": "markdown",
   "id": "79ddc84e",
   "metadata": {},
   "source": [
    "### Exercise 1 | Parsing\n",
    "#### Exercise 1.1 | Ubiquitous Ambiguity"
   ]
  },
  {
   "cell_type": "code",
   "execution_count": 1,
   "id": "a5cd73c5",
   "metadata": {},
   "outputs": [],
   "source": [
    "import nltk\n",
    "groucho_grammar = nltk.CFG.fromstring(\"\"\"\n",
    "S -> NP NP\n",
    "PP -> N NP\n",
    "NP -> Det N | Det N PP | 'I'\n",
    "VP -> V NP | VP PP\n",
    "Det -> 'an' | 'my'\n",
    "N -> 'elephant' | 'pajamas'\n",
    "V -> 'shot'\n",
    "P -> 'in'\n",
    "\"\"\")"
   ]
  },
  {
   "cell_type": "markdown",
   "id": "acc17b69",
   "metadata": {},
   "source": [
    "Kode program diatas menunjukkan  bagaimana ambiguitas dalam frasa:  I shot an elephant in my pajamas. Yang pertama diperlukan adalah mendefinsikan tata bahasa sederhana atau simple grammar.\n",
    "\n",
    "Adapun Contoh ambiguity yang terkenal ditunjukkan  dari film Groucho Marx, Animal Crackers (1930) \n",
    "\n",
    "While hunting in Africa, I shot an elephant in my pajamas. How he got into my pajamas, I don't know."
   ]
  },
  {
   "cell_type": "code",
   "execution_count": 2,
   "id": "cda0a6dd",
   "metadata": {},
   "outputs": [],
   "source": [
    "from sklearn import tree\n",
    "\n",
    "sent = ['I', 'shot', 'an', 'elephant', 'in', 'pajamas']\n",
    "parser = nltk.ChartParser(groucho_grammar)\n",
    "trees = parser.parse(sent)\n",
    "for t in trees:\n",
    "    print(t)\n",
    "    t.draw()"
   ]
  },
  {
   "cell_type": "markdown",
   "id": "12838549",
   "metadata": {},
   "source": [
    "Kalimat diatas memiliki Grammar yang mmeungkinkan kita untuk menganalisis dalam dua cara yaitu tergantung pada apakah frasa preposisi  in my pajamas menggambarkan gajah atau peristiwa penembakan."
   ]
  },
  {
   "cell_type": "markdown",
   "id": "a60bb174",
   "metadata": {},
   "source": [
    "#### Exercise 1.2 | Recursive Descent Parsing with Context Free Grammar"
   ]
  },
  {
   "cell_type": "code",
   "execution_count": 3,
   "id": "d7a201b0",
   "metadata": {},
   "outputs": [],
   "source": [
    "grammar1 = nltk.CFG.fromstring(\"\"\"\n",
    "S -> NP NP\n",
    "VP -> V NP | V NP PP\n",
    "PP -> P NP\n",
    "V -> \"saw\" | \"ate\" | \"walked\"\n",
    "NP -> \"John\" | \"Mary\" | \"Bob\" | Det N | Det N PP\n",
    "Det -> \"a\" | \"an\" | \"the\" | \"my\"\n",
    "N -> \"man\" | \"dog\" | \"cat\" | \"telescope\" | \"park\"\n",
    "P -> \"in\" | \"on\" | \"by\" | \"with\"\n",
    "\"\"\")\n",
    "\n",
    "sent = \"Mary saw Bob\".split()\n",
    "rd_parser = nltk.RecursiveDescentParser(grammar1)\n",
    "for t in rd_parser.parse(sent):\n",
    "    print(t)\n",
    "    t.draw()"
   ]
  },
  {
   "cell_type": "markdown",
   "id": "1b571fd4",
   "metadata": {},
   "source": [
    "Sebuah parser memproses kalimat masukan sesuai dengan produksi grammar, dan membangun satu atau lebih struktur konstituen yang sesuai dengan grammar. Sebuah parser memungkinkan grammar untuk dievaluasi terhadap kumpulan test sentences, membantu linguist untuk menemukan kesalahan dalam analisis grammar.\n",
    "\n",
    "Jenis pengurai yang paling sederhana menafsirkan grammar sebagai spesifikasi tentang cara memecah tujuan tingkat tinggi (high-level) menjadi beberapa subtujuan yang paling rendah (lower-level). Tujuan dari top-level adalah untuk menemukan s. "
   ]
  },
  {
   "cell_type": "code",
   "execution_count": 4,
   "id": "dd54cd77",
   "metadata": {},
   "outputs": [],
   "source": [
    "sent = \"the dog saw a man in the park\".split()\n",
    "rd_parser = nltk.RecursiveDescentParser(grammar1)\n",
    "for t in rd_parser.parse(sent):\n",
    "    print(t)\n",
    "    t.draw()"
   ]
  },
  {
   "cell_type": "markdown",
   "id": "3b096b21",
   "metadata": {},
   "source": [
    "#### Exercise 1.3 | Chart Parsing with Context Free Grammar"
   ]
  },
  {
   "cell_type": "code",
   "execution_count": 5,
   "id": "98b795fc",
   "metadata": {},
   "outputs": [],
   "source": [
    "def init_wfst(token, grammar):\n",
    "    numtokens = len(tokens)\n",
    "    wfst = [[None for i in range(numtokens+1)] for j in range(numtokens+1)]\n",
    "    for i in range(numtokens):\n",
    "        productions = grammar.productions(rhs=token[i])\n",
    "        wfst[i][i+1] = productions[0].lhs()\n",
    "    return wfst\n",
    "\n",
    "def complete_wfst(wfst, tokens, grammar, trace=False):\n",
    "    index = dict((p.rhs(), p.lhs()) for p in grammar.productions())\n",
    "    numtokens = len(tokens)\n",
    "    for span in range(2, numtokens+1):\n",
    "        for start in range(numtokens+1-span):\n",
    "            end = start + span\n",
    "            for mid in range(start+1, end):\n",
    "                nt1, nt2 = wfst[start][mid], wfst[mid][end]\n",
    "                if nt1 and nt2 and (nt1,nt2) in index:\n",
    "                    wfst[start][end] = index[(nt1,nt2)]\n",
    "                    if trace:\n",
    "                        print(\"[%s] %3s [%s] %3s [%s] %3s [==> [%s] %3s] [%s]\" % \\\n",
    "                              (start, nt1, mid, nt2, end, start, index[(nt1,nt2)], end))\n",
    "    return wfst\n",
    "def display(wfst, tokens):\n",
    "    print('\\nWFST' + ''.join((\"%-4d\" % i) for i in range (1, len(wfst))))\n",
    "    for i in range(len(wfst)-1):\n",
    "        print(\"%d \" % i, end=\"\")\n",
    "        for j in range(1, len(wfst)):\n",
    "            print(\"%-4s\" %(wfst[i][j] or '.'), end=\" \")\n",
    "        print()"
   ]
  },
  {
   "cell_type": "markdown",
   "id": "20f8eb4c",
   "metadata": {},
   "source": [
    "Dalam WFST posisi kata direkam dengan mengisi sel dalam matriks segitiga: sumbu vertikal akan menunjukkan posisi awal substring, sedangkan sumbu horizontal akan menunjukkan posisi akhir (sehingga tembakan akan muncul di sel dengan koordinat (1, 2)). Sederhananya, dianggap bahwa setiap kata memiliki kategori leksikal yang unik, dan kami akan menyimpan ini (bukan kata) dalam matriks. Jadi sel (1, 2) akan berisi entri V. "
   ]
  },
  {
   "cell_type": "code",
   "execution_count": 6,
   "id": "1d694f45",
   "metadata": {},
   "outputs": [],
   "source": [
    "def display(wfst, tokens):\n",
    "    print('\\nWFST ' + ' '.join((\"%-4d\" % i) for i in range(1, len(wfst))))\n",
    "    for i in range(len(wfst)-1):\n",
    "        print(\"%d  \" % i, end=\" \")\n",
    "        for j in range(1, len(wfst)):\n",
    "            print(\"%-4s\" % (wfst[i][j] or '.'), end=\" \")\n",
    "        print()"
   ]
  },
  {
   "cell_type": "code",
   "execution_count": 7,
   "id": "8dc4ce3a",
   "metadata": {},
   "outputs": [
    {
     "name": "stdout",
     "output_type": "stream",
     "text": [
      "\n",
      "WFST 1    2    3    4    5    6    7   \n",
      "0   NP   .    .    .    .    .    .    \n",
      "1   .    V    .    .    .    .    .    \n",
      "2   .    .    Det  .    .    .    .    \n",
      "3   .    .    .    N    .    .    .    \n",
      "4   .    .    .    .    P    .    .    \n",
      "5   .    .    .    .    .    Det  .    \n",
      "6   .    .    .    .    .    .    N    \n"
     ]
    }
   ],
   "source": [
    "tokens = \"I shot an elephant in my pajamas\".split()\n",
    "wfst0 = init_wfst(tokens, groucho_grammar)\n",
    "display(wfst0, tokens)"
   ]
  },
  {
   "cell_type": "markdown",
   "id": "d37afcd5",
   "metadata": {},
   "source": [
    "Untuk setiap kata dalam teks , kita dapat mencari dalam tata bahasa kita termasuk kategori apa"
   ]
  },
  {
   "cell_type": "code",
   "execution_count": 8,
   "id": "7b9e8328",
   "metadata": {},
   "outputs": [
    {
     "name": "stdout",
     "output_type": "stream",
     "text": [
      "\n",
      "WFST 1    2    3    4    5    6    7   \n",
      "0   NP   .    .    .    .    .    .    \n",
      "1   .    V    .    VP   .    .    .    \n",
      "2   .    .    Det  NP   .    .    .    \n",
      "3   .    .    .    N    .    .    .    \n",
      "4   .    .    .    .    P    .    .    \n",
      "5   .    .    .    .    .    Det  NP   \n",
      "6   .    .    .    .    .    .    N    \n"
     ]
    }
   ],
   "source": [
    "wfst1 = complete_wfst(wfst0, tokens, groucho_grammar)\n",
    "display(wfst1, tokens)"
   ]
  },
  {
   "cell_type": "markdown",
   "id": "3e6729e9",
   "metadata": {},
   "source": [
    "Tabel tersebut merepresentasikan bahwa kita  memiliki Det di sel (2,3) untuk kata an, dan N di sel (3,4) untuk kata elephant. Untuk an elephant, yang harus dimasukkan ke dalam sel (2,4), terlebih dahulu adalah mencari produksi dari bentuk A → Det N. Berkonsultasi dengan grammar, di sel (2,4) diketahui bahwa NP dapat di enter"
   ]
  },
  {
   "cell_type": "code",
   "execution_count": null,
   "id": "72c890d2",
   "metadata": {},
   "outputs": [],
   "source": []
  }
 ],
 "metadata": {
  "kernelspec": {
   "display_name": "Python 3 (ipykernel)",
   "language": "python",
   "name": "python3"
  },
  "language_info": {
   "codemirror_mode": {
    "name": "ipython",
    "version": 3
   },
   "file_extension": ".py",
   "mimetype": "text/x-python",
   "name": "python",
   "nbconvert_exporter": "python",
   "pygments_lexer": "ipython3",
   "version": "3.9.12"
  }
 },
 "nbformat": 4,
 "nbformat_minor": 5
}
